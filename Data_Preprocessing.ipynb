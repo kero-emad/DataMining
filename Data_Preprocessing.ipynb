{
 "cells": [
  {
   "cell_type": "code",
   "execution_count": 1,
   "id": "0860d0e9-d450-468d-aca7-b7b26d01eccf",
   "metadata": {},
   "outputs": [],
   "source": [
    "import pandas as pd\n",
    "import numpy as np"
   ]
  },
  {
   "cell_type": "code",
   "execution_count": 3,
   "id": "5b1fbe61-53f4-498d-90f6-f91611dc01a3",
   "metadata": {},
   "outputs": [],
   "source": [
    "df=pd.read_csv('survey_results_public.csv')"
   ]
  },
  {
   "cell_type": "code",
   "execution_count": 5,
   "id": "92d97051-1053-4eb2-a3bf-004d837abdbc",
   "metadata": {},
   "outputs": [
    {
     "name": "stdout",
     "output_type": "stream",
     "text": [
      "<class 'pandas.core.frame.DataFrame'>\n",
      "RangeIndex: 65437 entries, 0 to 65436\n",
      "Columns: 114 entries, ResponseId to JobSat\n",
      "dtypes: float64(13), int64(1), object(100)\n",
      "memory usage: 56.9+ MB\n"
     ]
    }
   ],
   "source": [
    "df.info()"
   ]
  },
  {
   "cell_type": "code",
   "execution_count": 7,
   "id": "8ac43120-f51f-4436-ab87-0414a66d3f33",
   "metadata": {},
   "outputs": [
    {
     "data": {
      "text/plain": [
       "array([nan, '100 to 499 employees', '2 to 9 employees',\n",
       "       'Just me - I am a freelancer, sole proprietor, etc.',\n",
       "       '10 to 19 employees', '20 to 99 employees',\n",
       "       '5,000 to 9,999 employees', '1,000 to 4,999 employees',\n",
       "       'I don’t know', '10,000 or more employees', '500 to 999 employees'],\n",
       "      dtype=object)"
      ]
     },
     "execution_count": 7,
     "metadata": {},
     "output_type": "execute_result"
    }
   ],
   "source": [
    "df['OrgSize'].unique()"
   ]
  },
  {
   "cell_type": "code",
   "execution_count": 9,
   "id": "efba21ce-e1af-438e-85cb-e7f20d506f7a",
   "metadata": {},
   "outputs": [],
   "source": [
    "df['OrgSize'] = df['OrgSize'].replace(\"I don’t know\", np.nan)"
   ]
  },
  {
   "cell_type": "code",
   "execution_count": 11,
   "id": "fa87dbcd-7f0b-49dd-83d9-dbfb73ab1ee2",
   "metadata": {},
   "outputs": [
    {
     "data": {
      "text/plain": [
       "array([nan, '100 to 499 employees', '2 to 9 employees',\n",
       "       'Just me - I am a freelancer, sole proprietor, etc.',\n",
       "       '10 to 19 employees', '20 to 99 employees',\n",
       "       '5,000 to 9,999 employees', '1,000 to 4,999 employees',\n",
       "       '10,000 or more employees', '500 to 999 employees'], dtype=object)"
      ]
     },
     "execution_count": 11,
     "metadata": {},
     "output_type": "execute_result"
    }
   ],
   "source": [
    "df['OrgSize'].unique()"
   ]
  },
  {
   "cell_type": "code",
   "execution_count": 13,
   "id": "2c72a2c2-a8a7-4101-9f31-9e6f84cd9ee1",
   "metadata": {},
   "outputs": [
    {
     "data": {
      "text/plain": [
       "0"
      ]
     },
     "execution_count": 13,
     "metadata": {},
     "output_type": "execute_result"
    }
   ],
   "source": [
    "df['MainBranch'].isna().sum()"
   ]
  },
  {
   "cell_type": "code",
   "execution_count": 15,
   "id": "8d1dfcef-9d87-4233-b558-f4f9a26502bc",
   "metadata": {},
   "outputs": [
    {
     "data": {
      "text/plain": [
       "0"
      ]
     },
     "execution_count": 15,
     "metadata": {},
     "output_type": "execute_result"
    }
   ],
   "source": [
    "df['Age'].isna().sum()"
   ]
  },
  {
   "cell_type": "code",
   "execution_count": 17,
   "id": "a2cea6d7-ddfe-401d-91a1-4eef70f26546",
   "metadata": {},
   "outputs": [
    {
     "data": {
      "text/plain": [
       "0"
      ]
     },
     "execution_count": 17,
     "metadata": {},
     "output_type": "execute_result"
    }
   ],
   "source": [
    "df['Employment'].isna().sum()"
   ]
  },
  {
   "cell_type": "code",
   "execution_count": 19,
   "id": "001c5203-f147-429b-a642-f3ed811ea473",
   "metadata": {},
   "outputs": [
    {
     "data": {
      "text/plain": [
       "10631"
      ]
     },
     "execution_count": 19,
     "metadata": {},
     "output_type": "execute_result"
    }
   ],
   "source": [
    "df['RemoteWork'].isna().sum()"
   ]
  },
  {
   "cell_type": "code",
   "execution_count": 21,
   "id": "221fe9fa-ccb3-4456-9d4c-1e0ff8ad631f",
   "metadata": {},
   "outputs": [
    {
     "data": {
      "text/plain": [
       "0"
      ]
     },
     "execution_count": 21,
     "metadata": {},
     "output_type": "execute_result"
    }
   ],
   "source": [
    "mode_value = df['RemoteWork'].mode()[0]\n",
    "df['RemoteWork'] = df['RemoteWork'].fillna(mode_value)\n",
    "df['RemoteWork'].isna().sum()"
   ]
  },
  {
   "cell_type": "code",
   "execution_count": 23,
   "id": "684abe62-66ac-48c5-950b-5c26f53a529d",
   "metadata": {},
   "outputs": [
    {
     "data": {
      "text/plain": [
       "0"
      ]
     },
     "execution_count": 23,
     "metadata": {},
     "output_type": "execute_result"
    }
   ],
   "source": [
    "df['Check'].isna().sum()"
   ]
  },
  {
   "cell_type": "code",
   "execution_count": 25,
   "id": "b025bb56-6523-478a-b8f3-50639eb25a16",
   "metadata": {},
   "outputs": [
    {
     "data": {
      "text/plain": [
       "10971"
      ]
     },
     "execution_count": 25,
     "metadata": {},
     "output_type": "execute_result"
    }
   ],
   "source": [
    "df['CodingActivities'].isna().sum()"
   ]
  },
  {
   "cell_type": "code",
   "execution_count": 27,
   "id": "585aef15-537a-4eb6-a5ce-aece532f6d7c",
   "metadata": {},
   "outputs": [
    {
     "data": {
      "text/plain": [
       "0"
      ]
     },
     "execution_count": 27,
     "metadata": {},
     "output_type": "execute_result"
    }
   ],
   "source": [
    "mode_value = df['CodingActivities'].mode()[0]\n",
    "df['CodingActivities'] = df['CodingActivities'].fillna(mode_value)\n",
    "df['CodingActivities'].isna().sum()"
   ]
  },
  {
   "cell_type": "code",
   "execution_count": 29,
   "id": "5f5e5359-11cf-4371-803d-b56856801558",
   "metadata": {},
   "outputs": [
    {
     "data": {
      "text/plain": [
       "4653"
      ]
     },
     "execution_count": 29,
     "metadata": {},
     "output_type": "execute_result"
    }
   ],
   "source": [
    "df['EdLevel'].isna().sum()"
   ]
  },
  {
   "cell_type": "code",
   "execution_count": 31,
   "id": "25b22ccb-0f98-4ffb-9a46-8b1f564d1516",
   "metadata": {},
   "outputs": [
    {
     "data": {
      "text/plain": [
       "0"
      ]
     },
     "execution_count": 31,
     "metadata": {},
     "output_type": "execute_result"
    }
   ],
   "source": [
    "mode_value = df['EdLevel'].mode()[0]\n",
    "df['EdLevel'] = df['EdLevel'].fillna(mode_value)\n",
    "df['EdLevel'].isna().sum()"
   ]
  },
  {
   "cell_type": "code",
   "execution_count": 33,
   "id": "38193adb-b719-41e3-9730-d8b219e577e8",
   "metadata": {},
   "outputs": [
    {
     "data": {
      "text/plain": [
       "4949"
      ]
     },
     "execution_count": 33,
     "metadata": {},
     "output_type": "execute_result"
    }
   ],
   "source": [
    "df['LearnCode'].isna().sum()"
   ]
  },
  {
   "cell_type": "code",
   "execution_count": 35,
   "id": "56d5bc2f-379f-45e4-9381-a25ec13b72f9",
   "metadata": {},
   "outputs": [
    {
     "data": {
      "text/plain": [
       "0"
      ]
     },
     "execution_count": 35,
     "metadata": {},
     "output_type": "execute_result"
    }
   ],
   "source": [
    "mode_value = df['LearnCode'].mode()[0]\n",
    "df['LearnCode'] = df['LearnCode'].fillna(mode_value)\n",
    "df['LearnCode'].isna().sum()"
   ]
  },
  {
   "cell_type": "code",
   "execution_count": 37,
   "id": "b5328533-3e67-45bf-afab-29fe7a96d8b3",
   "metadata": {},
   "outputs": [
    {
     "data": {
      "text/plain": [
       "16200"
      ]
     },
     "execution_count": 37,
     "metadata": {},
     "output_type": "execute_result"
    }
   ],
   "source": [
    "df['LearnCodeOnline'].isna().sum()"
   ]
  },
  {
   "cell_type": "code",
   "execution_count": 39,
   "id": "92043996-3e4a-4576-86d0-1cb8fdf343f0",
   "metadata": {},
   "outputs": [
    {
     "data": {
      "text/plain": [
       "0"
      ]
     },
     "execution_count": 39,
     "metadata": {},
     "output_type": "execute_result"
    }
   ],
   "source": [
    "mode_value = df['LearnCodeOnline'].mode()[0]\n",
    "df['LearnCodeOnline'] = df['LearnCodeOnline'].fillna(mode_value)\n",
    "df['LearnCodeOnline'].isna().sum()"
   ]
  },
  {
   "cell_type": "code",
   "execution_count": 41,
   "id": "89b5c925-1c38-4467-91e7-b419b362e5c4",
   "metadata": {},
   "outputs": [
    {
     "data": {
      "text/plain": [
       "24540"
      ]
     },
     "execution_count": 41,
     "metadata": {},
     "output_type": "execute_result"
    }
   ],
   "source": [
    "df['TechDoc'].isna().sum()"
   ]
  },
  {
   "cell_type": "code",
   "execution_count": 43,
   "id": "62db1ee9-01e6-4f56-80e9-30b8db9f7e92",
   "metadata": {},
   "outputs": [
    {
     "data": {
      "text/plain": [
       "0"
      ]
     },
     "execution_count": 43,
     "metadata": {},
     "output_type": "execute_result"
    }
   ],
   "source": [
    "mode_value = df['TechDoc'].mode()[0]\n",
    "df['TechDoc'] = df['TechDoc'].fillna(mode_value)\n",
    "df['TechDoc'].isna().sum()"
   ]
  },
  {
   "cell_type": "code",
   "execution_count": 45,
   "id": "9c546345-df9f-4fda-8531-a93d248db0b9",
   "metadata": {},
   "outputs": [
    {
     "data": {
      "text/html": [
       "<div>\n",
       "<style scoped>\n",
       "    .dataframe tbody tr th:only-of-type {\n",
       "        vertical-align: middle;\n",
       "    }\n",
       "\n",
       "    .dataframe tbody tr th {\n",
       "        vertical-align: top;\n",
       "    }\n",
       "\n",
       "    .dataframe thead th {\n",
       "        text-align: right;\n",
       "    }\n",
       "</style>\n",
       "<table border=\"1\" class=\"dataframe\">\n",
       "  <thead>\n",
       "    <tr style=\"text-align: right;\">\n",
       "      <th></th>\n",
       "      <th>YearsCode</th>\n",
       "    </tr>\n",
       "  </thead>\n",
       "  <tbody>\n",
       "    <tr>\n",
       "      <th>0</th>\n",
       "      <td>NaN</td>\n",
       "    </tr>\n",
       "    <tr>\n",
       "      <th>1</th>\n",
       "      <td>20</td>\n",
       "    </tr>\n",
       "    <tr>\n",
       "      <th>2</th>\n",
       "      <td>37</td>\n",
       "    </tr>\n",
       "    <tr>\n",
       "      <th>3</th>\n",
       "      <td>4</td>\n",
       "    </tr>\n",
       "    <tr>\n",
       "      <th>4</th>\n",
       "      <td>9</td>\n",
       "    </tr>\n",
       "    <tr>\n",
       "      <th>5</th>\n",
       "      <td>10</td>\n",
       "    </tr>\n",
       "    <tr>\n",
       "      <th>6</th>\n",
       "      <td>7</td>\n",
       "    </tr>\n",
       "    <tr>\n",
       "      <th>7</th>\n",
       "      <td>1</td>\n",
       "    </tr>\n",
       "    <tr>\n",
       "      <th>8</th>\n",
       "      <td>20</td>\n",
       "    </tr>\n",
       "    <tr>\n",
       "      <th>9</th>\n",
       "      <td>15</td>\n",
       "    </tr>\n",
       "    <tr>\n",
       "      <th>10</th>\n",
       "      <td>20</td>\n",
       "    </tr>\n",
       "    <tr>\n",
       "      <th>11</th>\n",
       "      <td>30</td>\n",
       "    </tr>\n",
       "    <tr>\n",
       "      <th>12</th>\n",
       "      <td>20</td>\n",
       "    </tr>\n",
       "    <tr>\n",
       "      <th>13</th>\n",
       "      <td>20</td>\n",
       "    </tr>\n",
       "    <tr>\n",
       "      <th>14</th>\n",
       "      <td>15</td>\n",
       "    </tr>\n",
       "    <tr>\n",
       "      <th>15</th>\n",
       "      <td>31</td>\n",
       "    </tr>\n",
       "    <tr>\n",
       "      <th>16</th>\n",
       "      <td>7</td>\n",
       "    </tr>\n",
       "    <tr>\n",
       "      <th>17</th>\n",
       "      <td>6</td>\n",
       "    </tr>\n",
       "    <tr>\n",
       "      <th>18</th>\n",
       "      <td>12</td>\n",
       "    </tr>\n",
       "    <tr>\n",
       "      <th>19</th>\n",
       "      <td>22</td>\n",
       "    </tr>\n",
       "    <tr>\n",
       "      <th>20</th>\n",
       "      <td>5</td>\n",
       "    </tr>\n",
       "    <tr>\n",
       "      <th>21</th>\n",
       "      <td>36</td>\n",
       "    </tr>\n",
       "    <tr>\n",
       "      <th>22</th>\n",
       "      <td>25</td>\n",
       "    </tr>\n",
       "    <tr>\n",
       "      <th>23</th>\n",
       "      <td>44</td>\n",
       "    </tr>\n",
       "    <tr>\n",
       "      <th>24</th>\n",
       "      <td>20</td>\n",
       "    </tr>\n",
       "    <tr>\n",
       "      <th>25</th>\n",
       "      <td>24</td>\n",
       "    </tr>\n",
       "    <tr>\n",
       "      <th>26</th>\n",
       "      <td>20</td>\n",
       "    </tr>\n",
       "    <tr>\n",
       "      <th>27</th>\n",
       "      <td>7</td>\n",
       "    </tr>\n",
       "    <tr>\n",
       "      <th>28</th>\n",
       "      <td>18</td>\n",
       "    </tr>\n",
       "    <tr>\n",
       "      <th>29</th>\n",
       "      <td>9</td>\n",
       "    </tr>\n",
       "    <tr>\n",
       "      <th>30</th>\n",
       "      <td>3</td>\n",
       "    </tr>\n",
       "    <tr>\n",
       "      <th>31</th>\n",
       "      <td>10</td>\n",
       "    </tr>\n",
       "    <tr>\n",
       "      <th>32</th>\n",
       "      <td>12</td>\n",
       "    </tr>\n",
       "    <tr>\n",
       "      <th>33</th>\n",
       "      <td>18</td>\n",
       "    </tr>\n",
       "    <tr>\n",
       "      <th>34</th>\n",
       "      <td>5</td>\n",
       "    </tr>\n",
       "    <tr>\n",
       "      <th>35</th>\n",
       "      <td>10</td>\n",
       "    </tr>\n",
       "    <tr>\n",
       "      <th>36</th>\n",
       "      <td>9</td>\n",
       "    </tr>\n",
       "    <tr>\n",
       "      <th>37</th>\n",
       "      <td>10</td>\n",
       "    </tr>\n",
       "    <tr>\n",
       "      <th>38</th>\n",
       "      <td>8</td>\n",
       "    </tr>\n",
       "    <tr>\n",
       "      <th>39</th>\n",
       "      <td>1</td>\n",
       "    </tr>\n",
       "    <tr>\n",
       "      <th>40</th>\n",
       "      <td>9</td>\n",
       "    </tr>\n",
       "    <tr>\n",
       "      <th>41</th>\n",
       "      <td>15</td>\n",
       "    </tr>\n",
       "    <tr>\n",
       "      <th>42</th>\n",
       "      <td>22</td>\n",
       "    </tr>\n",
       "    <tr>\n",
       "      <th>43</th>\n",
       "      <td>22</td>\n",
       "    </tr>\n",
       "    <tr>\n",
       "      <th>44</th>\n",
       "      <td>10</td>\n",
       "    </tr>\n",
       "    <tr>\n",
       "      <th>45</th>\n",
       "      <td>6</td>\n",
       "    </tr>\n",
       "    <tr>\n",
       "      <th>46</th>\n",
       "      <td>20</td>\n",
       "    </tr>\n",
       "    <tr>\n",
       "      <th>47</th>\n",
       "      <td>25</td>\n",
       "    </tr>\n",
       "    <tr>\n",
       "      <th>48</th>\n",
       "      <td>51.0</td>\n",
       "    </tr>\n",
       "    <tr>\n",
       "      <th>49</th>\n",
       "      <td>11</td>\n",
       "    </tr>\n",
       "  </tbody>\n",
       "</table>\n",
       "</div>"
      ],
      "text/plain": [
       "   YearsCode\n",
       "0        NaN\n",
       "1         20\n",
       "2         37\n",
       "3          4\n",
       "4          9\n",
       "5         10\n",
       "6          7\n",
       "7          1\n",
       "8         20\n",
       "9         15\n",
       "10        20\n",
       "11        30\n",
       "12        20\n",
       "13        20\n",
       "14        15\n",
       "15        31\n",
       "16         7\n",
       "17         6\n",
       "18        12\n",
       "19        22\n",
       "20         5\n",
       "21        36\n",
       "22        25\n",
       "23        44\n",
       "24        20\n",
       "25        24\n",
       "26        20\n",
       "27         7\n",
       "28        18\n",
       "29         9\n",
       "30         3\n",
       "31        10\n",
       "32        12\n",
       "33        18\n",
       "34         5\n",
       "35        10\n",
       "36         9\n",
       "37        10\n",
       "38         8\n",
       "39         1\n",
       "40         9\n",
       "41        15\n",
       "42        22\n",
       "43        22\n",
       "44        10\n",
       "45         6\n",
       "46        20\n",
       "47        25\n",
       "48      51.0\n",
       "49        11"
      ]
     },
     "execution_count": 45,
     "metadata": {},
     "output_type": "execute_result"
    }
   ],
   "source": [
    "mapping = {\n",
    "    'More than 50 years': 51,\n",
    "    'Less than 1 year': 0\n",
    "}\n",
    "df['YearsCode'] = df['YearsCode'].map(mapping).fillna(df['YearsCode'])\n",
    "df[['YearsCode']].head(50)"
   ]
  },
  {
   "cell_type": "code",
   "execution_count": 47,
   "id": "600be8a2-a9d1-4b7d-b27a-4a3cdf9090f7",
   "metadata": {},
   "outputs": [
    {
     "name": "stderr",
     "output_type": "stream",
     "text": [
      "C:\\Users\\Kero\\AppData\\Local\\Temp\\ipykernel_17608\\1272525781.py:3: FutureWarning: A value is trying to be set on a copy of a DataFrame or Series through chained assignment using an inplace method.\n",
      "The behavior will change in pandas 3.0. This inplace method will never work because the intermediate object on which we are setting values always behaves as a copy.\n",
      "\n",
      "For example, when doing 'df[col].method(value, inplace=True)', try using 'df.method({col: value}, inplace=True)' or df[col] = df[col].method(value) instead, to perform the operation inplace on the original object.\n",
      "\n",
      "\n",
      "  df['YearsCode'].fillna(median_value,inplace=True)\n"
     ]
    },
    {
     "data": {
      "text/html": [
       "<div>\n",
       "<style scoped>\n",
       "    .dataframe tbody tr th:only-of-type {\n",
       "        vertical-align: middle;\n",
       "    }\n",
       "\n",
       "    .dataframe tbody tr th {\n",
       "        vertical-align: top;\n",
       "    }\n",
       "\n",
       "    .dataframe thead th {\n",
       "        text-align: right;\n",
       "    }\n",
       "</style>\n",
       "<table border=\"1\" class=\"dataframe\">\n",
       "  <thead>\n",
       "    <tr style=\"text-align: right;\">\n",
       "      <th></th>\n",
       "      <th>YearsCode</th>\n",
       "    </tr>\n",
       "  </thead>\n",
       "  <tbody>\n",
       "    <tr>\n",
       "      <th>0</th>\n",
       "      <td>11</td>\n",
       "    </tr>\n",
       "    <tr>\n",
       "      <th>1</th>\n",
       "      <td>20</td>\n",
       "    </tr>\n",
       "    <tr>\n",
       "      <th>2</th>\n",
       "      <td>37</td>\n",
       "    </tr>\n",
       "    <tr>\n",
       "      <th>3</th>\n",
       "      <td>4</td>\n",
       "    </tr>\n",
       "    <tr>\n",
       "      <th>4</th>\n",
       "      <td>9</td>\n",
       "    </tr>\n",
       "    <tr>\n",
       "      <th>5</th>\n",
       "      <td>10</td>\n",
       "    </tr>\n",
       "    <tr>\n",
       "      <th>6</th>\n",
       "      <td>7</td>\n",
       "    </tr>\n",
       "    <tr>\n",
       "      <th>7</th>\n",
       "      <td>1</td>\n",
       "    </tr>\n",
       "    <tr>\n",
       "      <th>8</th>\n",
       "      <td>20</td>\n",
       "    </tr>\n",
       "    <tr>\n",
       "      <th>9</th>\n",
       "      <td>15</td>\n",
       "    </tr>\n",
       "  </tbody>\n",
       "</table>\n",
       "</div>"
      ],
      "text/plain": [
       "   YearsCode\n",
       "0         11\n",
       "1         20\n",
       "2         37\n",
       "3          4\n",
       "4          9\n",
       "5         10\n",
       "6          7\n",
       "7          1\n",
       "8         20\n",
       "9         15"
      ]
     },
     "execution_count": 47,
     "metadata": {},
     "output_type": "execute_result"
    }
   ],
   "source": [
    "df['YearsCode'] = pd.to_numeric(df['YearsCode'], errors='coerce')\n",
    "median_value = round(df['YearsCode'].median())\n",
    "df['YearsCode'].fillna(median_value,inplace=True)\n",
    "df['YearsCode'] = df['YearsCode'].astype(int)\n",
    "df[['YearsCode']].head(10)"
   ]
  },
  {
   "cell_type": "code",
   "execution_count": 49,
   "id": "9c8159dc-c55b-4272-aafb-ff1644dc192b",
   "metadata": {},
   "outputs": [
    {
     "data": {
      "text/html": [
       "<div>\n",
       "<style scoped>\n",
       "    .dataframe tbody tr th:only-of-type {\n",
       "        vertical-align: middle;\n",
       "    }\n",
       "\n",
       "    .dataframe tbody tr th {\n",
       "        vertical-align: top;\n",
       "    }\n",
       "\n",
       "    .dataframe thead th {\n",
       "        text-align: right;\n",
       "    }\n",
       "</style>\n",
       "<table border=\"1\" class=\"dataframe\">\n",
       "  <thead>\n",
       "    <tr style=\"text-align: right;\">\n",
       "      <th></th>\n",
       "      <th>YearsCodePro</th>\n",
       "    </tr>\n",
       "  </thead>\n",
       "  <tbody>\n",
       "    <tr>\n",
       "      <th>0</th>\n",
       "      <td>NaN</td>\n",
       "    </tr>\n",
       "    <tr>\n",
       "      <th>1</th>\n",
       "      <td>17</td>\n",
       "    </tr>\n",
       "    <tr>\n",
       "      <th>2</th>\n",
       "      <td>27</td>\n",
       "    </tr>\n",
       "    <tr>\n",
       "      <th>3</th>\n",
       "      <td>NaN</td>\n",
       "    </tr>\n",
       "    <tr>\n",
       "      <th>4</th>\n",
       "      <td>NaN</td>\n",
       "    </tr>\n",
       "    <tr>\n",
       "      <th>5</th>\n",
       "      <td>NaN</td>\n",
       "    </tr>\n",
       "    <tr>\n",
       "      <th>6</th>\n",
       "      <td>7</td>\n",
       "    </tr>\n",
       "    <tr>\n",
       "      <th>7</th>\n",
       "      <td>NaN</td>\n",
       "    </tr>\n",
       "    <tr>\n",
       "      <th>8</th>\n",
       "      <td>NaN</td>\n",
       "    </tr>\n",
       "    <tr>\n",
       "      <th>9</th>\n",
       "      <td>11</td>\n",
       "    </tr>\n",
       "    <tr>\n",
       "      <th>10</th>\n",
       "      <td>NaN</td>\n",
       "    </tr>\n",
       "    <tr>\n",
       "      <th>11</th>\n",
       "      <td>25</td>\n",
       "    </tr>\n",
       "    <tr>\n",
       "      <th>12</th>\n",
       "      <td>12</td>\n",
       "    </tr>\n",
       "    <tr>\n",
       "      <th>13</th>\n",
       "      <td>NaN</td>\n",
       "    </tr>\n",
       "    <tr>\n",
       "      <th>14</th>\n",
       "      <td>10</td>\n",
       "    </tr>\n",
       "    <tr>\n",
       "      <th>15</th>\n",
       "      <td>27</td>\n",
       "    </tr>\n",
       "    <tr>\n",
       "      <th>16</th>\n",
       "      <td>NaN</td>\n",
       "    </tr>\n",
       "    <tr>\n",
       "      <th>17</th>\n",
       "      <td>3</td>\n",
       "    </tr>\n",
       "    <tr>\n",
       "      <th>18</th>\n",
       "      <td>10</td>\n",
       "    </tr>\n",
       "    <tr>\n",
       "      <th>19</th>\n",
       "      <td>11</td>\n",
       "    </tr>\n",
       "    <tr>\n",
       "      <th>20</th>\n",
       "      <td>0.0</td>\n",
       "    </tr>\n",
       "    <tr>\n",
       "      <th>21</th>\n",
       "      <td>11</td>\n",
       "    </tr>\n",
       "    <tr>\n",
       "      <th>22</th>\n",
       "      <td>18</td>\n",
       "    </tr>\n",
       "    <tr>\n",
       "      <th>23</th>\n",
       "      <td>37</td>\n",
       "    </tr>\n",
       "    <tr>\n",
       "      <th>24</th>\n",
       "      <td>15</td>\n",
       "    </tr>\n",
       "  </tbody>\n",
       "</table>\n",
       "</div>"
      ],
      "text/plain": [
       "   YearsCodePro\n",
       "0           NaN\n",
       "1            17\n",
       "2            27\n",
       "3           NaN\n",
       "4           NaN\n",
       "5           NaN\n",
       "6             7\n",
       "7           NaN\n",
       "8           NaN\n",
       "9            11\n",
       "10          NaN\n",
       "11           25\n",
       "12           12\n",
       "13          NaN\n",
       "14           10\n",
       "15           27\n",
       "16          NaN\n",
       "17            3\n",
       "18           10\n",
       "19           11\n",
       "20          0.0\n",
       "21           11\n",
       "22           18\n",
       "23           37\n",
       "24           15"
      ]
     },
     "execution_count": 49,
     "metadata": {},
     "output_type": "execute_result"
    }
   ],
   "source": [
    "mapping = {\n",
    "    'More than 50 years': 51,\n",
    "    'Less than 1 year': 0\n",
    "}\n",
    "df['YearsCodePro'] = df['YearsCodePro'].map(mapping).fillna(df['YearsCodePro'])\n",
    "df[['YearsCodePro']].head(25)"
   ]
  },
  {
   "cell_type": "code",
   "execution_count": 51,
   "id": "7d12e466-0032-47c4-968e-3e65f9540b2e",
   "metadata": {},
   "outputs": [
    {
     "name": "stderr",
     "output_type": "stream",
     "text": [
      "C:\\Users\\Kero\\AppData\\Local\\Temp\\ipykernel_17608\\3083868879.py:3: FutureWarning: A value is trying to be set on a copy of a DataFrame or Series through chained assignment using an inplace method.\n",
      "The behavior will change in pandas 3.0. This inplace method will never work because the intermediate object on which we are setting values always behaves as a copy.\n",
      "\n",
      "For example, when doing 'df[col].method(value, inplace=True)', try using 'df.method({col: value}, inplace=True)' or df[col] = df[col].method(value) instead, to perform the operation inplace on the original object.\n",
      "\n",
      "\n",
      "  df['YearsCodePro'].fillna(median_value,inplace=True)\n"
     ]
    },
    {
     "data": {
      "text/html": [
       "<div>\n",
       "<style scoped>\n",
       "    .dataframe tbody tr th:only-of-type {\n",
       "        vertical-align: middle;\n",
       "    }\n",
       "\n",
       "    .dataframe tbody tr th {\n",
       "        vertical-align: top;\n",
       "    }\n",
       "\n",
       "    .dataframe thead th {\n",
       "        text-align: right;\n",
       "    }\n",
       "</style>\n",
       "<table border=\"1\" class=\"dataframe\">\n",
       "  <thead>\n",
       "    <tr style=\"text-align: right;\">\n",
       "      <th></th>\n",
       "      <th>YearsCodePro</th>\n",
       "    </tr>\n",
       "  </thead>\n",
       "  <tbody>\n",
       "    <tr>\n",
       "      <th>0</th>\n",
       "      <td>7</td>\n",
       "    </tr>\n",
       "    <tr>\n",
       "      <th>1</th>\n",
       "      <td>17</td>\n",
       "    </tr>\n",
       "    <tr>\n",
       "      <th>2</th>\n",
       "      <td>27</td>\n",
       "    </tr>\n",
       "    <tr>\n",
       "      <th>3</th>\n",
       "      <td>7</td>\n",
       "    </tr>\n",
       "    <tr>\n",
       "      <th>4</th>\n",
       "      <td>7</td>\n",
       "    </tr>\n",
       "    <tr>\n",
       "      <th>5</th>\n",
       "      <td>7</td>\n",
       "    </tr>\n",
       "    <tr>\n",
       "      <th>6</th>\n",
       "      <td>7</td>\n",
       "    </tr>\n",
       "    <tr>\n",
       "      <th>7</th>\n",
       "      <td>7</td>\n",
       "    </tr>\n",
       "    <tr>\n",
       "      <th>8</th>\n",
       "      <td>7</td>\n",
       "    </tr>\n",
       "    <tr>\n",
       "      <th>9</th>\n",
       "      <td>11</td>\n",
       "    </tr>\n",
       "  </tbody>\n",
       "</table>\n",
       "</div>"
      ],
      "text/plain": [
       "   YearsCodePro\n",
       "0             7\n",
       "1            17\n",
       "2            27\n",
       "3             7\n",
       "4             7\n",
       "5             7\n",
       "6             7\n",
       "7             7\n",
       "8             7\n",
       "9            11"
      ]
     },
     "execution_count": 51,
     "metadata": {},
     "output_type": "execute_result"
    }
   ],
   "source": [
    "df['YearsCodePro'] = pd.to_numeric(df['YearsCodePro'], errors='coerce')\n",
    "median_value = round(df['YearsCodePro'].median())\n",
    "df['YearsCodePro'].fillna(median_value,inplace=True)\n",
    "df['YearsCodePro']=df['YearsCodePro'].astype(int)\n",
    "df[['YearsCodePro']].head(10)"
   ]
  },
  {
   "cell_type": "code",
   "execution_count": 55,
   "id": "41c4d5e6-36f0-49f5-ac87-d7a9b6cd5681",
   "metadata": {},
   "outputs": [
    {
     "data": {
      "text/plain": [
       "5992"
      ]
     },
     "execution_count": 55,
     "metadata": {},
     "output_type": "execute_result"
    }
   ],
   "source": [
    "df['DevType'].isna().sum()"
   ]
  },
  {
   "cell_type": "code",
   "execution_count": 57,
   "id": "c6f50d9b-22d8-4e3c-953a-c31f291e5777",
   "metadata": {},
   "outputs": [
    {
     "data": {
      "text/plain": [
       "0"
      ]
     },
     "execution_count": 57,
     "metadata": {},
     "output_type": "execute_result"
    }
   ],
   "source": [
    "mode_value = df['DevType'].mode()[0]\n",
    "df['DevType'] = df['DevType'].fillna(mode_value)\n",
    "df['DevType'].isna().sum()"
   ]
  },
  {
   "cell_type": "code",
   "execution_count": 59,
   "id": "2d463e70-1628-49cb-8fde-aa3b77f70a69",
   "metadata": {},
   "outputs": [
    {
     "data": {
      "text/plain": [
       "19025"
      ]
     },
     "execution_count": 59,
     "metadata": {},
     "output_type": "execute_result"
    }
   ],
   "source": [
    "df['OrgSize'].isna().sum()"
   ]
  },
  {
   "cell_type": "code",
   "execution_count": 61,
   "id": "3c15546f-9598-4b65-a617-dd929ae64d4c",
   "metadata": {},
   "outputs": [
    {
     "data": {
      "text/plain": [
       "0"
      ]
     },
     "execution_count": 61,
     "metadata": {},
     "output_type": "execute_result"
    }
   ],
   "source": [
    "mode_value = df['OrgSize'].mode()[0]\n",
    "df['OrgSize'] = df['OrgSize'].fillna(mode_value)\n",
    "df['OrgSize'].isna().sum()"
   ]
  },
  {
   "cell_type": "code",
   "execution_count": 63,
   "id": "2fe67dd1-dd0e-4de4-8fd8-47628a0324d3",
   "metadata": {},
   "outputs": [
    {
     "data": {
      "text/plain": [
       "18031"
      ]
     },
     "execution_count": 63,
     "metadata": {},
     "output_type": "execute_result"
    }
   ],
   "source": [
    "df['PurchaseInfluence'].isna().sum()"
   ]
  },
  {
   "cell_type": "code",
   "execution_count": 65,
   "id": "c6cb7583-0cda-448e-8c6f-4b0d67e9da40",
   "metadata": {},
   "outputs": [
    {
     "data": {
      "text/plain": [
       "0"
      ]
     },
     "execution_count": 65,
     "metadata": {},
     "output_type": "execute_result"
    }
   ],
   "source": [
    "mode_value = df['PurchaseInfluence'].mode()[0]\n",
    "df['PurchaseInfluence'] = df['PurchaseInfluence'].fillna(mode_value)\n",
    "df['PurchaseInfluence'].isna().sum()"
   ]
  },
  {
   "cell_type": "code",
   "execution_count": 67,
   "id": "6c86e02e-3316-4d94-a073-8c887b6d1c5a",
   "metadata": {},
   "outputs": [
    {
     "data": {
      "text/plain": [
       "20256"
      ]
     },
     "execution_count": 67,
     "metadata": {},
     "output_type": "execute_result"
    }
   ],
   "source": [
    "df['BuyNewTool'].isna().sum()"
   ]
  },
  {
   "cell_type": "code",
   "execution_count": 69,
   "id": "dab49cfd-21e5-49cc-a55b-74fb3cd43f44",
   "metadata": {},
   "outputs": [
    {
     "data": {
      "text/plain": [
       "0"
      ]
     },
     "execution_count": 69,
     "metadata": {},
     "output_type": "execute_result"
    }
   ],
   "source": [
    "mode_value = df['BuyNewTool'].mode()[0]\n",
    "df['BuyNewTool'] = df['BuyNewTool'].fillna(mode_value)\n",
    "df['BuyNewTool'].isna().sum()"
   ]
  },
  {
   "cell_type": "code",
   "execution_count": 71,
   "id": "5e18a534-7eeb-4fde-9fbf-49977184d988",
   "metadata": {},
   "outputs": [
    {
     "data": {
      "text/plain": [
       "22079"
      ]
     },
     "execution_count": 71,
     "metadata": {},
     "output_type": "execute_result"
    }
   ],
   "source": [
    "df['BuildvsBuy'].isna().sum()"
   ]
  },
  {
   "cell_type": "code",
   "execution_count": 73,
   "id": "05439383-08cb-4c3a-b168-1217363aa23f",
   "metadata": {},
   "outputs": [
    {
     "data": {
      "text/plain": [
       "0"
      ]
     },
     "execution_count": 73,
     "metadata": {},
     "output_type": "execute_result"
    }
   ],
   "source": [
    "mode_value = df['BuildvsBuy'].mode()[0]\n",
    "df['BuildvsBuy'] = df['BuildvsBuy'].fillna(mode_value)\n",
    "df['BuildvsBuy'].isna().sum()"
   ]
  },
  {
   "cell_type": "code",
   "execution_count": 75,
   "id": "eb5bc758-b77b-4e08-a474-075675d9aaf7",
   "metadata": {},
   "outputs": [
    {
     "data": {
      "text/plain": [
       "21769"
      ]
     },
     "execution_count": 75,
     "metadata": {},
     "output_type": "execute_result"
    }
   ],
   "source": [
    "df['TechEndorse'].isna().sum()"
   ]
  },
  {
   "cell_type": "code",
   "execution_count": 77,
   "id": "478fc9e1-6c56-45f8-a74c-144af95e475b",
   "metadata": {},
   "outputs": [
    {
     "data": {
      "text/plain": [
       "0"
      ]
     },
     "execution_count": 77,
     "metadata": {},
     "output_type": "execute_result"
    }
   ],
   "source": [
    "mode_value = df['TechEndorse'].mode()[0]\n",
    "df['TechEndorse'] = df['TechEndorse'].fillna(mode_value)\n",
    "df['TechEndorse'].isna().sum()"
   ]
  },
  {
   "cell_type": "code",
   "execution_count": 79,
   "id": "8d131a2d-775c-4a2b-9481-821304248775",
   "metadata": {},
   "outputs": [
    {
     "data": {
      "text/plain": [
       "6507"
      ]
     },
     "execution_count": 79,
     "metadata": {},
     "output_type": "execute_result"
    }
   ],
   "source": [
    "df['Country'].isna().sum()"
   ]
  },
  {
   "cell_type": "code",
   "execution_count": 81,
   "id": "acb5458f-d083-4a98-9a7c-645d65f0fadb",
   "metadata": {},
   "outputs": [
    {
     "data": {
      "text/plain": [
       "0"
      ]
     },
     "execution_count": 81,
     "metadata": {},
     "output_type": "execute_result"
    }
   ],
   "source": [
    "mode_value = df['Country'].mode()[0]\n",
    "df['Country'] = df['Country'].fillna(mode_value)\n",
    "df['Country'].isna().sum()"
   ]
  },
  {
   "cell_type": "code",
   "execution_count": 83,
   "id": "f72c5353-95c4-4ef6-8c73-60a39da7b614",
   "metadata": {},
   "outputs": [
    {
     "data": {
      "text/plain": [
       "18753"
      ]
     },
     "execution_count": 83,
     "metadata": {},
     "output_type": "execute_result"
    }
   ],
   "source": [
    "df['Currency'].isna().sum()"
   ]
  },
  {
   "cell_type": "code",
   "execution_count": 85,
   "id": "d5b817f5-bd17-4264-aecb-2606c265ef75",
   "metadata": {},
   "outputs": [
    {
     "data": {
      "text/plain": [
       "0"
      ]
     },
     "execution_count": 85,
     "metadata": {},
     "output_type": "execute_result"
    }
   ],
   "source": [
    "mode_value = df['Currency'].mode()[0]\n",
    "df['Currency'] = df['Currency'].fillna(mode_value)\n",
    "df['Currency'].isna().sum()"
   ]
  },
  {
   "cell_type": "code",
   "execution_count": 87,
   "id": "21e9b4bb-b19f-440f-8806-c56d32b2b7b1",
   "metadata": {},
   "outputs": [
    {
     "data": {
      "text/plain": [
       "31697"
      ]
     },
     "execution_count": 87,
     "metadata": {},
     "output_type": "execute_result"
    }
   ],
   "source": [
    "df['CompTotal'].isna().sum()"
   ]
  },
  {
   "cell_type": "code",
   "execution_count": 89,
   "id": "b6876d32-c28c-4c50-a439-83078b4622ba",
   "metadata": {},
   "outputs": [],
   "source": [
    "df=df.drop(columns=['CompTotal'])"
   ]
  },
  {
   "cell_type": "code",
   "execution_count": 91,
   "id": "b44c7790-90e0-4b17-889e-6b6bd281f6a3",
   "metadata": {},
   "outputs": [
    {
     "data": {
      "text/plain": [
       "5692"
      ]
     },
     "execution_count": 91,
     "metadata": {},
     "output_type": "execute_result"
    }
   ],
   "source": [
    "df['LanguageHaveWorkedWith'].isna().sum()"
   ]
  },
  {
   "cell_type": "code",
   "execution_count": 93,
   "id": "99b64f40-a497-4efd-a827-213ef6e6c93b",
   "metadata": {},
   "outputs": [
    {
     "data": {
      "text/plain": [
       "0"
      ]
     },
     "execution_count": 93,
     "metadata": {},
     "output_type": "execute_result"
    }
   ],
   "source": [
    "mode_value = df['LanguageHaveWorkedWith'].mode()[0]\n",
    "df['LanguageHaveWorkedWith'] = df['LanguageHaveWorkedWith'].fillna(mode_value)\n",
    "df['LanguageHaveWorkedWith'].isna().sum()"
   ]
  },
  {
   "cell_type": "code",
   "execution_count": 95,
   "id": "a92e0e8b-a21b-4299-96c2-beac75c5e88f",
   "metadata": {},
   "outputs": [
    {
     "data": {
      "text/plain": [
       "9685"
      ]
     },
     "execution_count": 95,
     "metadata": {},
     "output_type": "execute_result"
    }
   ],
   "source": [
    "df['LanguageWantToWorkWith'].isna().sum()"
   ]
  },
  {
   "cell_type": "code",
   "execution_count": 97,
   "id": "87530d41-391e-46fc-b40f-d36c9a9f8308",
   "metadata": {},
   "outputs": [
    {
     "data": {
      "text/plain": [
       "0"
      ]
     },
     "execution_count": 97,
     "metadata": {},
     "output_type": "execute_result"
    }
   ],
   "source": [
    "mode_value = df['LanguageWantToWorkWith'].mode()[0]\n",
    "df['LanguageWantToWorkWith'] = df['LanguageWantToWorkWith'].fillna(mode_value)\n",
    "df['LanguageWantToWorkWith'].isna().sum()"
   ]
  },
  {
   "cell_type": "code",
   "execution_count": 99,
   "id": "b1d9e2f9-937d-4495-9368-03511feabd97",
   "metadata": {},
   "outputs": [
    {
     "data": {
      "text/plain": [
       "14565"
      ]
     },
     "execution_count": 99,
     "metadata": {},
     "output_type": "execute_result"
    }
   ],
   "source": [
    "df['LanguageAdmired'].isna().sum()"
   ]
  },
  {
   "cell_type": "code",
   "execution_count": 101,
   "id": "b93a221e-b07e-404e-b1a5-137bb0f07d55",
   "metadata": {},
   "outputs": [
    {
     "data": {
      "text/plain": [
       "0"
      ]
     },
     "execution_count": 101,
     "metadata": {},
     "output_type": "execute_result"
    }
   ],
   "source": [
    "mode_value = df['LanguageAdmired'].mode()[0]\n",
    "df['LanguageAdmired'] = df['LanguageAdmired'].fillna(mode_value)\n",
    "df['LanguageAdmired'].isna().sum()"
   ]
  },
  {
   "cell_type": "code",
   "execution_count": 103,
   "id": "0f2ce1c5-cbdc-4be1-b2bb-40820c5aef99",
   "metadata": {},
   "outputs": [
    {
     "data": {
      "text/plain": [
       "15183"
      ]
     },
     "execution_count": 103,
     "metadata": {},
     "output_type": "execute_result"
    }
   ],
   "source": [
    "df['DatabaseHaveWorkedWith'].isna().sum()"
   ]
  },
  {
   "cell_type": "code",
   "execution_count": 105,
   "id": "1c86662c-7e18-4831-a07b-37c95c2c25f9",
   "metadata": {},
   "outputs": [
    {
     "data": {
      "text/plain": [
       "0"
      ]
     },
     "execution_count": 105,
     "metadata": {},
     "output_type": "execute_result"
    }
   ],
   "source": [
    "mode_value = df['DatabaseHaveWorkedWith'].mode()[0]\n",
    "df['DatabaseHaveWorkedWith'] = df['DatabaseHaveWorkedWith'].fillna(mode_value)\n",
    "df['DatabaseHaveWorkedWith'].isna().sum()"
   ]
  },
  {
   "cell_type": "code",
   "execution_count": 107,
   "id": "f761bc63-500f-4978-acec-951f9609120a",
   "metadata": {},
   "outputs": [
    {
     "data": {
      "text/plain": [
       "22879"
      ]
     },
     "execution_count": 107,
     "metadata": {},
     "output_type": "execute_result"
    }
   ],
   "source": [
    "df['DatabaseWantToWorkWith'].isna().sum()"
   ]
  },
  {
   "cell_type": "code",
   "execution_count": 109,
   "id": "aafaf11f-33d4-4546-a5a3-3166e8e06ed4",
   "metadata": {},
   "outputs": [
    {
     "data": {
      "text/plain": [
       "0"
      ]
     },
     "execution_count": 109,
     "metadata": {},
     "output_type": "execute_result"
    }
   ],
   "source": [
    "mode_value = df['DatabaseWantToWorkWith'].mode()[0]\n",
    "df['DatabaseWantToWorkWith'] = df['DatabaseWantToWorkWith'].fillna(mode_value)\n",
    "df['DatabaseWantToWorkWith'].isna().sum()"
   ]
  },
  {
   "cell_type": "code",
   "execution_count": 111,
   "id": "ef04db16-7839-4e77-8295-155fe86d9eef",
   "metadata": {},
   "outputs": [
    {
     "data": {
      "text/plain": [
       "26880"
      ]
     },
     "execution_count": 111,
     "metadata": {},
     "output_type": "execute_result"
    }
   ],
   "source": [
    "df['DatabaseAdmired'].isna().sum()"
   ]
  },
  {
   "cell_type": "code",
   "execution_count": 113,
   "id": "2ec9a7c4-1982-44c6-9984-d32aff1d5a51",
   "metadata": {},
   "outputs": [
    {
     "data": {
      "text/plain": [
       "0"
      ]
     },
     "execution_count": 113,
     "metadata": {},
     "output_type": "execute_result"
    }
   ],
   "source": [
    "mode_value = df['DatabaseAdmired'].mode()[0]\n",
    "df['DatabaseAdmired'] = df['DatabaseAdmired'].fillna(mode_value)\n",
    "df['DatabaseAdmired'].isna().sum()"
   ]
  },
  {
   "cell_type": "code",
   "execution_count": 115,
   "id": "240d0d8f-533a-4de4-971d-3a2fb5c8d219",
   "metadata": {},
   "outputs": [
    {
     "data": {
      "text/plain": [
       "23071"
      ]
     },
     "execution_count": 115,
     "metadata": {},
     "output_type": "execute_result"
    }
   ],
   "source": [
    "df['PlatformHaveWorkedWith'].isna().sum()"
   ]
  },
  {
   "cell_type": "code",
   "execution_count": 117,
   "id": "d3270d3d-db48-4879-9c0b-a00c8ef786b9",
   "metadata": {},
   "outputs": [
    {
     "data": {
      "text/plain": [
       "0"
      ]
     },
     "execution_count": 117,
     "metadata": {},
     "output_type": "execute_result"
    }
   ],
   "source": [
    "mode_value = df['PlatformHaveWorkedWith'].mode()[0]\n",
    "df['PlatformHaveWorkedWith'] = df['PlatformHaveWorkedWith'].fillna(mode_value)\n",
    "df['PlatformHaveWorkedWith'].isna().sum()"
   ]
  },
  {
   "cell_type": "code",
   "execution_count": 119,
   "id": "35179dbe-d819-43f8-a124-a98de9d1c013",
   "metadata": {},
   "outputs": [
    {
     "data": {
      "text/plain": [
       "30905"
      ]
     },
     "execution_count": 119,
     "metadata": {},
     "output_type": "execute_result"
    }
   ],
   "source": [
    "df['PlatformWantToWorkWith'].isna().sum()"
   ]
  },
  {
   "cell_type": "code",
   "execution_count": 121,
   "id": "c41319c4-c61c-4b39-83c5-e65fe97f9a36",
   "metadata": {},
   "outputs": [
    {
     "data": {
      "text/plain": [
       "0"
      ]
     },
     "execution_count": 121,
     "metadata": {},
     "output_type": "execute_result"
    }
   ],
   "source": [
    "mode_value = df['PlatformWantToWorkWith'].mode()[0]\n",
    "df['PlatformWantToWorkWith'] = df['PlatformWantToWorkWith'].fillna(mode_value)\n",
    "df['PlatformWantToWorkWith'].isna().sum()"
   ]
  },
  {
   "cell_type": "code",
   "execution_count": 123,
   "id": "6e9178c3-d9d7-4263-bc4d-49607d9cbe70",
   "metadata": {},
   "outputs": [
    {
     "data": {
      "text/plain": [
       "34060"
      ]
     },
     "execution_count": 123,
     "metadata": {},
     "output_type": "execute_result"
    }
   ],
   "source": [
    "df['PlatformAdmired'].isna().sum()"
   ]
  },
  {
   "cell_type": "code",
   "execution_count": 125,
   "id": "01d7c736-ef9c-4424-9443-2a3b8ab8c63a",
   "metadata": {},
   "outputs": [],
   "source": [
    "df=df.drop(columns=['PlatformAdmired'])"
   ]
  },
  {
   "cell_type": "code",
   "execution_count": 127,
   "id": "d3c34404-44bc-4cc1-bb2d-a8fdb680a8e6",
   "metadata": {},
   "outputs": [
    {
     "data": {
      "text/plain": [
       "20276"
      ]
     },
     "execution_count": 127,
     "metadata": {},
     "output_type": "execute_result"
    }
   ],
   "source": [
    "df['WebframeHaveWorkedWith'].isna().sum()"
   ]
  },
  {
   "cell_type": "code",
   "execution_count": 129,
   "id": "f5cea91f-11b0-40cb-8c80-7b0788aff8b9",
   "metadata": {},
   "outputs": [
    {
     "data": {
      "text/plain": [
       "0"
      ]
     },
     "execution_count": 129,
     "metadata": {},
     "output_type": "execute_result"
    }
   ],
   "source": [
    "mode_value = df['WebframeHaveWorkedWith'].mode()[0]\n",
    "df['WebframeHaveWorkedWith'] = df['WebframeHaveWorkedWith'].fillna(mode_value)\n",
    "df['WebframeHaveWorkedWith'].isna().sum()"
   ]
  },
  {
   "cell_type": "code",
   "execution_count": 131,
   "id": "5d3e7892-79d5-4544-ad93-e98941bc4e59",
   "metadata": {},
   "outputs": [
    {
     "data": {
      "text/plain": [
       "26902"
      ]
     },
     "execution_count": 131,
     "metadata": {},
     "output_type": "execute_result"
    }
   ],
   "source": [
    "df['WebframeWantToWorkWith'].isna().sum()"
   ]
  },
  {
   "cell_type": "code",
   "execution_count": 133,
   "id": "aba05a79-12ad-4b71-b76a-8964a0272e13",
   "metadata": {},
   "outputs": [
    {
     "data": {
      "text/plain": [
       "0"
      ]
     },
     "execution_count": 133,
     "metadata": {},
     "output_type": "execute_result"
    }
   ],
   "source": [
    "mode_value = df['WebframeWantToWorkWith'].mode()[0]\n",
    "df['WebframeWantToWorkWith'] = df['WebframeWantToWorkWith'].fillna(mode_value)\n",
    "df['WebframeWantToWorkWith'].isna().sum()"
   ]
  },
  {
   "cell_type": "code",
   "execution_count": 135,
   "id": "5dc2d301-8e6d-4f71-8336-47aa6ca33fc4",
   "metadata": {},
   "outputs": [
    {
     "data": {
      "text/plain": [
       "30494"
      ]
     },
     "execution_count": 135,
     "metadata": {},
     "output_type": "execute_result"
    }
   ],
   "source": [
    "df['WebframeAdmired'].isna().sum()"
   ]
  },
  {
   "cell_type": "code",
   "execution_count": 137,
   "id": "e3b84b37-2b4d-466c-a1ac-d16a4b4578c8",
   "metadata": {},
   "outputs": [
    {
     "data": {
      "text/plain": [
       "0"
      ]
     },
     "execution_count": 137,
     "metadata": {},
     "output_type": "execute_result"
    }
   ],
   "source": [
    "mode_value = df['WebframeAdmired'].mode()[0]\n",
    "df['WebframeAdmired'] = df['WebframeAdmired'].fillna(mode_value)\n",
    "df['WebframeAdmired'].isna().sum()"
   ]
  },
  {
   "cell_type": "code",
   "execution_count": 139,
   "id": "ece5a278-8419-43d9-8991-d8c9af676a76",
   "metadata": {},
   "outputs": [
    {
     "data": {
      "text/plain": [
       "43223"
      ]
     },
     "execution_count": 139,
     "metadata": {},
     "output_type": "execute_result"
    }
   ],
   "source": [
    "df['EmbeddedHaveWorkedWith'].isna().sum()"
   ]
  },
  {
   "cell_type": "code",
   "execution_count": 141,
   "id": "10e06138-e1a5-41bd-a0f5-e5b9689da209",
   "metadata": {},
   "outputs": [],
   "source": [
    "df=df.drop(columns=['EmbeddedHaveWorkedWith'])"
   ]
  },
  {
   "cell_type": "code",
   "execution_count": 143,
   "id": "2f77de9b-26bd-4729-aee9-5676b8903ec7",
   "metadata": {},
   "outputs": [
    {
     "data": {
      "text/plain": [
       "47837"
      ]
     },
     "execution_count": 143,
     "metadata": {},
     "output_type": "execute_result"
    }
   ],
   "source": [
    "df['EmbeddedWantToWorkWith'].isna().sum()"
   ]
  },
  {
   "cell_type": "code",
   "execution_count": 145,
   "id": "fbd56c7b-c232-4b40-bbf3-581ea2c4b35f",
   "metadata": {},
   "outputs": [],
   "source": [
    "df=df.drop(columns=['EmbeddedWantToWorkWith'])"
   ]
  },
  {
   "cell_type": "code",
   "execution_count": 147,
   "id": "40ea4f12-e8ea-4d65-8dee-7183ddaf72e4",
   "metadata": {},
   "outputs": [
    {
     "data": {
      "text/plain": [
       "48704"
      ]
     },
     "execution_count": 147,
     "metadata": {},
     "output_type": "execute_result"
    }
   ],
   "source": [
    "df['EmbeddedAdmired'].isna().sum()"
   ]
  },
  {
   "cell_type": "code",
   "execution_count": 149,
   "id": "ddb09823-8c9b-4ca9-882b-974178097004",
   "metadata": {},
   "outputs": [],
   "source": [
    "df=df.drop(columns=['EmbeddedAdmired'])"
   ]
  },
  {
   "cell_type": "code",
   "execution_count": 151,
   "id": "4865a27a-7af9-4340-9ae0-1649b3c7281f",
   "metadata": {},
   "outputs": [
    {
     "data": {
      "text/plain": [
       "25994"
      ]
     },
     "execution_count": 151,
     "metadata": {},
     "output_type": "execute_result"
    }
   ],
   "source": [
    "df['MiscTechHaveWorkedWith'].isna().sum()"
   ]
  },
  {
   "cell_type": "code",
   "execution_count": 153,
   "id": "6a51b0c8-42d4-4f4e-9663-68250f29a217",
   "metadata": {},
   "outputs": [
    {
     "data": {
      "text/plain": [
       "0"
      ]
     },
     "execution_count": 153,
     "metadata": {},
     "output_type": "execute_result"
    }
   ],
   "source": [
    "mode_value = df['MiscTechHaveWorkedWith'].mode()[0]\n",
    "df['MiscTechHaveWorkedWith'] = df['MiscTechHaveWorkedWith'].fillna(mode_value)\n",
    "df['MiscTechHaveWorkedWith'].isna().sum()"
   ]
  },
  {
   "cell_type": "code",
   "execution_count": 155,
   "id": "45b54a65-128e-4bb1-8fb8-dcc67092ef98",
   "metadata": {},
   "outputs": [
    {
     "data": {
      "text/plain": [
       "32473"
      ]
     },
     "execution_count": 155,
     "metadata": {},
     "output_type": "execute_result"
    }
   ],
   "source": [
    "df['MiscTechWantToWorkWith'].isna().sum()"
   ]
  },
  {
   "cell_type": "code",
   "execution_count": 157,
   "id": "de8f68cb-fce7-435b-8ebe-679780c8bad4",
   "metadata": {},
   "outputs": [],
   "source": [
    "df=df.drop(columns=['MiscTechWantToWorkWith'])"
   ]
  },
  {
   "cell_type": "code",
   "execution_count": 159,
   "id": "1adfec76-f23f-4042-b7f5-fcba709b6f45",
   "metadata": {},
   "outputs": [
    {
     "data": {
      "text/plain": [
       "35841"
      ]
     },
     "execution_count": 159,
     "metadata": {},
     "output_type": "execute_result"
    }
   ],
   "source": [
    "df['MiscTechAdmired'].isna().sum()"
   ]
  },
  {
   "cell_type": "code",
   "execution_count": 161,
   "id": "5d28a26d-ba84-4740-bb8b-d8f77b27c9b1",
   "metadata": {},
   "outputs": [],
   "source": [
    "df=df.drop(columns=['MiscTechAdmired'])"
   ]
  },
  {
   "cell_type": "code",
   "execution_count": 163,
   "id": "4054e852-d8f6-4d57-ad59-af75055dede6",
   "metadata": {},
   "outputs": [
    {
     "data": {
      "text/plain": [
       "12955"
      ]
     },
     "execution_count": 163,
     "metadata": {},
     "output_type": "execute_result"
    }
   ],
   "source": [
    "df['ToolsTechHaveWorkedWith'].isna().sum()"
   ]
  },
  {
   "cell_type": "code",
   "execution_count": 165,
   "id": "169e2d49-a4e9-42fb-ab11-44b1fd1f73ce",
   "metadata": {},
   "outputs": [
    {
     "data": {
      "text/plain": [
       "0"
      ]
     },
     "execution_count": 165,
     "metadata": {},
     "output_type": "execute_result"
    }
   ],
   "source": [
    "mode_value = df['ToolsTechHaveWorkedWith'].mode()[0]\n",
    "df['ToolsTechHaveWorkedWith'] = df['ToolsTechHaveWorkedWith'].fillna(mode_value)\n",
    "df['ToolsTechHaveWorkedWith'].isna().sum()"
   ]
  },
  {
   "cell_type": "code",
   "execution_count": 167,
   "id": "b79603cd-925d-4aaf-b979-33bd6257bf2a",
   "metadata": {},
   "outputs": [
    {
     "data": {
      "text/plain": [
       "19353"
      ]
     },
     "execution_count": 167,
     "metadata": {},
     "output_type": "execute_result"
    }
   ],
   "source": [
    "df['ToolsTechWantToWorkWith'].isna().sum()"
   ]
  },
  {
   "cell_type": "code",
   "execution_count": 169,
   "id": "00590c34-b744-41b3-8295-2538dc89ba59",
   "metadata": {},
   "outputs": [
    {
     "data": {
      "text/plain": [
       "0"
      ]
     },
     "execution_count": 169,
     "metadata": {},
     "output_type": "execute_result"
    }
   ],
   "source": [
    "mode_value = df['ToolsTechWantToWorkWith'].mode()[0]\n",
    "df['ToolsTechWantToWorkWith'] = df['ToolsTechWantToWorkWith'].fillna(mode_value)\n",
    "df['ToolsTechWantToWorkWith'].isna().sum()"
   ]
  },
  {
   "cell_type": "code",
   "execution_count": 171,
   "id": "9743c4b1-e002-4613-a666-444bdc19d02e",
   "metadata": {},
   "outputs": [
    {
     "data": {
      "text/plain": [
       "21440"
      ]
     },
     "execution_count": 171,
     "metadata": {},
     "output_type": "execute_result"
    }
   ],
   "source": [
    "df['ToolsTechAdmired'].isna().sum()"
   ]
  },
  {
   "cell_type": "code",
   "execution_count": 173,
   "id": "5c94dc58-4147-41b1-b6fa-2c463cd0d5a4",
   "metadata": {},
   "outputs": [
    {
     "data": {
      "text/plain": [
       "0"
      ]
     },
     "execution_count": 173,
     "metadata": {},
     "output_type": "execute_result"
    }
   ],
   "source": [
    "mode_value = df['ToolsTechAdmired'].mode()[0]\n",
    "df['ToolsTechAdmired'] = df['ToolsTechAdmired'].fillna(mode_value)\n",
    "df['ToolsTechAdmired'].isna().sum()"
   ]
  },
  {
   "cell_type": "code",
   "execution_count": 175,
   "id": "c0a2d3b0-27cd-4c50-87d0-07bff1762b31",
   "metadata": {},
   "outputs": [
    {
     "data": {
      "text/plain": [
       "7845"
      ]
     },
     "execution_count": 175,
     "metadata": {},
     "output_type": "execute_result"
    }
   ],
   "source": [
    "df['NEWCollabToolsHaveWorkedWith'].isna().sum()"
   ]
  },
  {
   "cell_type": "code",
   "execution_count": 177,
   "id": "849456af-590b-486b-bf5f-b31b62b76070",
   "metadata": {},
   "outputs": [
    {
     "data": {
      "text/plain": [
       "0"
      ]
     },
     "execution_count": 177,
     "metadata": {},
     "output_type": "execute_result"
    }
   ],
   "source": [
    "mode_value = df['NEWCollabToolsHaveWorkedWith'].mode()[0]\n",
    "df['NEWCollabToolsHaveWorkedWith'] = df['NEWCollabToolsHaveWorkedWith'].fillna(mode_value)\n",
    "df['NEWCollabToolsHaveWorkedWith'].isna().sum()"
   ]
  },
  {
   "cell_type": "code",
   "execution_count": 179,
   "id": "f93eb8b7-dfa2-47ce-9a83-92a0aa4a31bb",
   "metadata": {},
   "outputs": [
    {
     "data": {
      "text/plain": [
       "13350"
      ]
     },
     "execution_count": 179,
     "metadata": {},
     "output_type": "execute_result"
    }
   ],
   "source": [
    "df['NEWCollabToolsWantToWorkWith'].isna().sum()"
   ]
  },
  {
   "cell_type": "code",
   "execution_count": 181,
   "id": "d38a75ec-661e-4d2d-ae41-a384581a572a",
   "metadata": {},
   "outputs": [
    {
     "data": {
      "text/plain": [
       "0"
      ]
     },
     "execution_count": 181,
     "metadata": {},
     "output_type": "execute_result"
    }
   ],
   "source": [
    "mode_value = df['NEWCollabToolsWantToWorkWith'].mode()[0]\n",
    "df['NEWCollabToolsWantToWorkWith'] = df['NEWCollabToolsWantToWorkWith'].fillna(mode_value)\n",
    "df['NEWCollabToolsWantToWorkWith'].isna().sum()"
   ]
  },
  {
   "cell_type": "code",
   "execution_count": 183,
   "id": "dde002f1-702b-4edd-817e-cec058388895",
   "metadata": {},
   "outputs": [
    {
     "data": {
      "text/plain": [
       "14726"
      ]
     },
     "execution_count": 183,
     "metadata": {},
     "output_type": "execute_result"
    }
   ],
   "source": [
    "df['NEWCollabToolsAdmired'].isna().sum()"
   ]
  },
  {
   "cell_type": "code",
   "execution_count": 185,
   "id": "d2ee34be-0618-4ba1-8d1c-7f7d9222bd29",
   "metadata": {},
   "outputs": [
    {
     "data": {
      "text/plain": [
       "0"
      ]
     },
     "execution_count": 185,
     "metadata": {},
     "output_type": "execute_result"
    }
   ],
   "source": [
    "mode_value = df['NEWCollabToolsAdmired'].mode()[0]\n",
    "df['NEWCollabToolsAdmired'] = df['NEWCollabToolsAdmired'].fillna(mode_value)\n",
    "df['NEWCollabToolsAdmired'].isna().sum()"
   ]
  },
  {
   "cell_type": "code",
   "execution_count": 187,
   "id": "9594dd4c-937f-4913-8bc6-a8821c81b9dd",
   "metadata": {},
   "outputs": [
    {
     "data": {
      "text/plain": [
       "7263"
      ]
     },
     "execution_count": 187,
     "metadata": {},
     "output_type": "execute_result"
    }
   ],
   "source": [
    "df['OpSysPersonal use'].isna().sum()"
   ]
  },
  {
   "cell_type": "code",
   "execution_count": 189,
   "id": "7476138b-bc6f-4970-878c-8dd971c59727",
   "metadata": {},
   "outputs": [
    {
     "data": {
      "text/plain": [
       "0"
      ]
     },
     "execution_count": 189,
     "metadata": {},
     "output_type": "execute_result"
    }
   ],
   "source": [
    "mode_value = df['OpSysPersonal use'].mode()[0]\n",
    "df['OpSysPersonal use'] = df['OpSysPersonal use'].fillna(mode_value)\n",
    "df['OpSysPersonal use'].isna().sum()"
   ]
  },
  {
   "cell_type": "code",
   "execution_count": 191,
   "id": "6ce96723-5a02-47a6-8b24-a7d9b42033b6",
   "metadata": {},
   "outputs": [
    {
     "data": {
      "text/plain": [
       "12464"
      ]
     },
     "execution_count": 191,
     "metadata": {},
     "output_type": "execute_result"
    }
   ],
   "source": [
    "df['OpSysProfessional use'].isna().sum()"
   ]
  },
  {
   "cell_type": "code",
   "execution_count": 193,
   "id": "6fa16715-62c1-4836-a94f-a146fc64cf32",
   "metadata": {},
   "outputs": [
    {
     "data": {
      "text/plain": [
       "0"
      ]
     },
     "execution_count": 193,
     "metadata": {},
     "output_type": "execute_result"
    }
   ],
   "source": [
    "mode_value = df['OpSysProfessional use'].mode()[0]\n",
    "df['OpSysProfessional use'] = df['OpSysProfessional use'].fillna(mode_value)\n",
    "df['OpSysProfessional use'].isna().sum()"
   ]
  },
  {
   "cell_type": "code",
   "execution_count": 195,
   "id": "21334de7-14f8-49ca-a5a7-5570a3b16b51",
   "metadata": {},
   "outputs": [
    {
     "data": {
      "text/plain": [
       "17344"
      ]
     },
     "execution_count": 195,
     "metadata": {},
     "output_type": "execute_result"
    }
   ],
   "source": [
    "df['OfficeStackAsyncHaveWorkedWith'].isna().sum()"
   ]
  },
  {
   "cell_type": "code",
   "execution_count": 197,
   "id": "ca8995e1-88fd-4100-bc10-7f9e72a4432c",
   "metadata": {},
   "outputs": [
    {
     "data": {
      "text/plain": [
       "0"
      ]
     },
     "execution_count": 197,
     "metadata": {},
     "output_type": "execute_result"
    }
   ],
   "source": [
    "mode_value = df['OfficeStackAsyncHaveWorkedWith'].mode()[0]\n",
    "df['OfficeStackAsyncHaveWorkedWith'] = df['OfficeStackAsyncHaveWorkedWith'].fillna(mode_value)\n",
    "df['OfficeStackAsyncHaveWorkedWith'].isna().sum()"
   ]
  },
  {
   "cell_type": "code",
   "execution_count": 199,
   "id": "3fb0cc91-312f-4196-a25e-f5e9240c4c60",
   "metadata": {},
   "outputs": [
    {
     "data": {
      "text/plain": [
       "26471"
      ]
     },
     "execution_count": 199,
     "metadata": {},
     "output_type": "execute_result"
    }
   ],
   "source": [
    "df['OfficeStackAsyncWantToWorkWith'].isna().sum()"
   ]
  },
  {
   "cell_type": "code",
   "execution_count": 201,
   "id": "a301ec0f-7b7f-4c9c-b1c8-9c83a8aef8d7",
   "metadata": {},
   "outputs": [
    {
     "data": {
      "text/plain": [
       "0"
      ]
     },
     "execution_count": 201,
     "metadata": {},
     "output_type": "execute_result"
    }
   ],
   "source": [
    "mode_value = df['OfficeStackAsyncWantToWorkWith'].mode()[0]\n",
    "df['OfficeStackAsyncWantToWorkWith'] = df['OfficeStackAsyncWantToWorkWith'].fillna(mode_value)\n",
    "df['OfficeStackAsyncWantToWorkWith'].isna().sum()"
   ]
  },
  {
   "cell_type": "code",
   "execution_count": 203,
   "id": "61ce2d42-c01f-490a-8520-19b47ab88853",
   "metadata": {},
   "outputs": [
    {
     "data": {
      "text/plain": [
       "28233"
      ]
     },
     "execution_count": 203,
     "metadata": {},
     "output_type": "execute_result"
    }
   ],
   "source": [
    "df['OfficeStackAsyncAdmired'].isna().sum()"
   ]
  },
  {
   "cell_type": "code",
   "execution_count": 205,
   "id": "9305ca56-8d33-4f41-9afd-85e70a62ad50",
   "metadata": {},
   "outputs": [
    {
     "data": {
      "text/plain": [
       "0"
      ]
     },
     "execution_count": 205,
     "metadata": {},
     "output_type": "execute_result"
    }
   ],
   "source": [
    "mode_value = df['OfficeStackAsyncAdmired'].mode()[0]\n",
    "df['OfficeStackAsyncAdmired'] = df['OfficeStackAsyncAdmired'].fillna(mode_value)\n",
    "df['OfficeStackAsyncAdmired'].isna().sum()"
   ]
  },
  {
   "cell_type": "code",
   "execution_count": 207,
   "id": "39ddcf39-3938-4586-bd92-0ac74fd60fbc",
   "metadata": {},
   "outputs": [
    {
     "data": {
      "text/plain": [
       "9892"
      ]
     },
     "execution_count": 207,
     "metadata": {},
     "output_type": "execute_result"
    }
   ],
   "source": [
    "df['OfficeStackSyncHaveWorkedWith'].isna().sum()"
   ]
  },
  {
   "cell_type": "code",
   "execution_count": 209,
   "id": "16d1ff69-221c-443b-84cd-652d8e1dcea3",
   "metadata": {},
   "outputs": [
    {
     "data": {
      "text/plain": [
       "0"
      ]
     },
     "execution_count": 209,
     "metadata": {},
     "output_type": "execute_result"
    }
   ],
   "source": [
    "mode_value = df['OfficeStackSyncHaveWorkedWith'].mode()[0]\n",
    "df['OfficeStackSyncHaveWorkedWith'] = df['OfficeStackSyncHaveWorkedWith'].fillna(mode_value)\n",
    "df['OfficeStackSyncHaveWorkedWith'].isna().sum()"
   ]
  },
  {
   "cell_type": "code",
   "execution_count": 211,
   "id": "76c0a6cc-517c-4bc3-afe3-592208bc2887",
   "metadata": {},
   "outputs": [
    {
     "data": {
      "text/plain": [
       "18726"
      ]
     },
     "execution_count": 211,
     "metadata": {},
     "output_type": "execute_result"
    }
   ],
   "source": [
    "df['OfficeStackSyncWantToWorkWith'].isna().sum()"
   ]
  },
  {
   "cell_type": "code",
   "execution_count": 213,
   "id": "715fb77f-fd7d-44e3-b2f8-66a569190a08",
   "metadata": {},
   "outputs": [
    {
     "data": {
      "text/plain": [
       "0"
      ]
     },
     "execution_count": 213,
     "metadata": {},
     "output_type": "execute_result"
    }
   ],
   "source": [
    "mode_value = df['OfficeStackSyncWantToWorkWith'].mode()[0]\n",
    "df['OfficeStackSyncWantToWorkWith'] = df['OfficeStackSyncWantToWorkWith'].fillna(mode_value)\n",
    "df['OfficeStackSyncWantToWorkWith'].isna().sum()"
   ]
  },
  {
   "cell_type": "code",
   "execution_count": 215,
   "id": "6db1d1c1-c4f6-4006-94ae-30c25aa56202",
   "metadata": {},
   "outputs": [
    {
     "data": {
      "text/plain": [
       "20725"
      ]
     },
     "execution_count": 215,
     "metadata": {},
     "output_type": "execute_result"
    }
   ],
   "source": [
    "df['OfficeStackSyncAdmired'].isna().sum()"
   ]
  },
  {
   "cell_type": "code",
   "execution_count": 217,
   "id": "81fea5f0-5351-4a91-97d2-d79025f5f339",
   "metadata": {},
   "outputs": [
    {
     "data": {
      "text/plain": [
       "0"
      ]
     },
     "execution_count": 217,
     "metadata": {},
     "output_type": "execute_result"
    }
   ],
   "source": [
    "mode_value = df['OfficeStackSyncAdmired'].mode()[0]\n",
    "df['OfficeStackSyncAdmired'] = df['OfficeStackSyncAdmired'].fillna(mode_value)\n",
    "df['OfficeStackSyncAdmired'].isna().sum()"
   ]
  },
  {
   "cell_type": "code",
   "execution_count": 219,
   "id": "c39e10fa-593d-45d8-a90c-891d15ce2a9d",
   "metadata": {},
   "outputs": [
    {
     "data": {
      "text/plain": [
       "20984"
      ]
     },
     "execution_count": 219,
     "metadata": {},
     "output_type": "execute_result"
    }
   ],
   "source": [
    "df['AISearchDevHaveWorkedWith'].isna().sum()"
   ]
  },
  {
   "cell_type": "code",
   "execution_count": 221,
   "id": "7b03b2d3-ee89-4d44-8798-0e0a56e266c0",
   "metadata": {},
   "outputs": [
    {
     "data": {
      "text/plain": [
       "0"
      ]
     },
     "execution_count": 221,
     "metadata": {},
     "output_type": "execute_result"
    }
   ],
   "source": [
    "mode_value = df['AISearchDevHaveWorkedWith'].mode()[0]\n",
    "df['AISearchDevHaveWorkedWith'] = df['AISearchDevHaveWorkedWith'].fillna(mode_value)\n",
    "df['AISearchDevHaveWorkedWith'].isna().sum()"
   ]
  },
  {
   "cell_type": "code",
   "execution_count": 223,
   "id": "6d02cf2e-2f46-482c-aa96-67f86d9493c2",
   "metadata": {},
   "outputs": [
    {
     "data": {
      "text/plain": [
       "28736"
      ]
     },
     "execution_count": 223,
     "metadata": {},
     "output_type": "execute_result"
    }
   ],
   "source": [
    "df['AISearchDevWantToWorkWith'].isna().sum()"
   ]
  },
  {
   "cell_type": "code",
   "execution_count": 225,
   "id": "801e2f89-83d8-4946-abff-493fe7c39afa",
   "metadata": {},
   "outputs": [
    {
     "data": {
      "text/plain": [
       "0"
      ]
     },
     "execution_count": 225,
     "metadata": {},
     "output_type": "execute_result"
    }
   ],
   "source": [
    "mode_value = df['AISearchDevWantToWorkWith'].mode()[0]\n",
    "df['AISearchDevWantToWorkWith'] = df['AISearchDevWantToWorkWith'].fillna(mode_value)\n",
    "df['AISearchDevWantToWorkWith'].isna().sum()"
   ]
  },
  {
   "cell_type": "code",
   "execution_count": 227,
   "id": "ebbdb5e8-7edc-4843-a8bc-9e1acc6d6f0d",
   "metadata": {},
   "outputs": [
    {
     "data": {
      "text/plain": [
       "29894"
      ]
     },
     "execution_count": 227,
     "metadata": {},
     "output_type": "execute_result"
    }
   ],
   "source": [
    "df['AISearchDevAdmired'].isna().sum()"
   ]
  },
  {
   "cell_type": "code",
   "execution_count": 229,
   "id": "76e40130-1a89-498e-b02b-9306126e9d76",
   "metadata": {},
   "outputs": [
    {
     "data": {
      "text/plain": [
       "0"
      ]
     },
     "execution_count": 229,
     "metadata": {},
     "output_type": "execute_result"
    }
   ],
   "source": [
    "mode_value = df['AISearchDevAdmired'].mode()[0]\n",
    "df['AISearchDevAdmired'] = df['AISearchDevAdmired'].fillna(mode_value)\n",
    "df['AISearchDevAdmired'].isna().sum()"
   ]
  },
  {
   "cell_type": "code",
   "execution_count": 231,
   "id": "23a07a1c-008b-4ccf-ad1f-5ac8adcf93d8",
   "metadata": {},
   "outputs": [
    {
     "data": {
      "text/plain": [
       "5151"
      ]
     },
     "execution_count": 231,
     "metadata": {},
     "output_type": "execute_result"
    }
   ],
   "source": [
    "df['NEWSOSites'].isna().sum()"
   ]
  },
  {
   "cell_type": "code",
   "execution_count": 233,
   "id": "9e5d171a-c0e3-41a2-aec7-7a4b21416985",
   "metadata": {},
   "outputs": [
    {
     "data": {
      "text/plain": [
       "0"
      ]
     },
     "execution_count": 233,
     "metadata": {},
     "output_type": "execute_result"
    }
   ],
   "source": [
    "mode_value = df['NEWSOSites'].mode()[0]\n",
    "df['NEWSOSites'] = df['NEWSOSites'].fillna(mode_value)\n",
    "df['NEWSOSites'].isna().sum()"
   ]
  },
  {
   "cell_type": "code",
   "execution_count": 235,
   "id": "181a5a57-d89d-433b-913c-3285f17608d5",
   "metadata": {},
   "outputs": [
    {
     "data": {
      "text/plain": [
       "5901"
      ]
     },
     "execution_count": 235,
     "metadata": {},
     "output_type": "execute_result"
    }
   ],
   "source": [
    "df['SOVisitFreq'].isna().sum()"
   ]
  },
  {
   "cell_type": "code",
   "execution_count": 237,
   "id": "7b671a42-e77e-4272-910a-f6c87578d693",
   "metadata": {},
   "outputs": [
    {
     "data": {
      "text/plain": [
       "0"
      ]
     },
     "execution_count": 237,
     "metadata": {},
     "output_type": "execute_result"
    }
   ],
   "source": [
    "mode_value = df['SOVisitFreq'].mode()[0]\n",
    "df['SOVisitFreq'] = df['SOVisitFreq'].fillna(mode_value)\n",
    "df['SOVisitFreq'].isna().sum()"
   ]
  },
  {
   "cell_type": "code",
   "execution_count": 239,
   "id": "3df175bf-8867-4310-aa2c-75de3a0fc492",
   "metadata": {},
   "outputs": [
    {
     "data": {
      "text/plain": [
       "5877"
      ]
     },
     "execution_count": 239,
     "metadata": {},
     "output_type": "execute_result"
    }
   ],
   "source": [
    "df['SOAccount'].isna().sum()"
   ]
  },
  {
   "cell_type": "code",
   "execution_count": 241,
   "id": "d8460208-dd35-4589-a347-e1c9533a9423",
   "metadata": {},
   "outputs": [
    {
     "data": {
      "text/plain": [
       "0"
      ]
     },
     "execution_count": 241,
     "metadata": {},
     "output_type": "execute_result"
    }
   ],
   "source": [
    "mode_value = df['SOAccount'].mode()[0]\n",
    "df['SOAccount'] = df['SOAccount'].fillna(mode_value)\n",
    "df['SOAccount'].isna().sum()"
   ]
  },
  {
   "cell_type": "code",
   "execution_count": 243,
   "id": "19d69c9f-72f2-48ff-9a5b-b9ed3d3c8dd3",
   "metadata": {},
   "outputs": [
    {
     "data": {
      "text/plain": [
       "20200"
      ]
     },
     "execution_count": 243,
     "metadata": {},
     "output_type": "execute_result"
    }
   ],
   "source": [
    "df['SOPartFreq'].isna().sum()"
   ]
  },
  {
   "cell_type": "code",
   "execution_count": 245,
   "id": "d374f6b6-07ca-405f-8d19-f874ee986527",
   "metadata": {},
   "outputs": [
    {
     "data": {
      "text/plain": [
       "0"
      ]
     },
     "execution_count": 245,
     "metadata": {},
     "output_type": "execute_result"
    }
   ],
   "source": [
    "mode_value = df['SOPartFreq'].mode()[0]\n",
    "df['SOPartFreq'] = df['SOPartFreq'].fillna(mode_value)\n",
    "df['SOPartFreq'].isna().sum()"
   ]
  },
  {
   "cell_type": "code",
   "execution_count": 247,
   "id": "131d3589-4150-4494-b8d2-23d2dd17e9f3",
   "metadata": {},
   "outputs": [
    {
     "data": {
      "text/plain": [
       "6475"
      ]
     },
     "execution_count": 247,
     "metadata": {},
     "output_type": "execute_result"
    }
   ],
   "source": [
    "df['SOHow'].isna().sum()"
   ]
  },
  {
   "cell_type": "code",
   "execution_count": 249,
   "id": "ab0d4d78-f8b2-4ac0-be9b-43324d77839a",
   "metadata": {},
   "outputs": [
    {
     "data": {
      "text/plain": [
       "0"
      ]
     },
     "execution_count": 249,
     "metadata": {},
     "output_type": "execute_result"
    }
   ],
   "source": [
    "mode_value = df['SOHow'].mode()[0]\n",
    "df['SOHow'] = df['SOHow'].fillna(mode_value)\n",
    "df['SOHow'].isna().sum()"
   ]
  },
  {
   "cell_type": "code",
   "execution_count": 251,
   "id": "ff72974a-8e95-4739-8e0d-66822c300d15",
   "metadata": {},
   "outputs": [
    {
     "data": {
      "text/plain": [
       "6274"
      ]
     },
     "execution_count": 251,
     "metadata": {},
     "output_type": "execute_result"
    }
   ],
   "source": [
    "df['SOComm'].isna().sum()"
   ]
  },
  {
   "cell_type": "code",
   "execution_count": 253,
   "id": "e3da052a-1b96-4010-aac0-958c66be50ed",
   "metadata": {},
   "outputs": [
    {
     "data": {
      "text/plain": [
       "0"
      ]
     },
     "execution_count": 253,
     "metadata": {},
     "output_type": "execute_result"
    }
   ],
   "source": [
    "mode_value = df['SOComm'].mode()[0]\n",
    "df['SOComm'] = df['SOComm'].fillna(mode_value)\n",
    "df['SOComm'].isna().sum()"
   ]
  },
  {
   "cell_type": "code",
   "execution_count": 255,
   "id": "36ac03da-fb1b-49be-bf27-b2666f22f52a",
   "metadata": {},
   "outputs": [
    {
     "data": {
      "text/plain": [
       "4530"
      ]
     },
     "execution_count": 255,
     "metadata": {},
     "output_type": "execute_result"
    }
   ],
   "source": [
    "df['AISelect'].isna().sum()"
   ]
  },
  {
   "cell_type": "code",
   "execution_count": 257,
   "id": "34ad7174-4018-4020-bc5c-c8048424d8dc",
   "metadata": {},
   "outputs": [
    {
     "data": {
      "text/plain": [
       "0"
      ]
     },
     "execution_count": 257,
     "metadata": {},
     "output_type": "execute_result"
    }
   ],
   "source": [
    "mode_value = df['AISelect'].mode()[0]\n",
    "df['AISelect'] = df['AISelect'].fillna(mode_value)\n",
    "df['AISelect'].isna().sum()"
   ]
  },
  {
   "cell_type": "code",
   "execution_count": 259,
   "id": "16b86154-ad93-48a1-b605-b0ea17f5305b",
   "metadata": {},
   "outputs": [
    {
     "data": {
      "text/plain": [
       "19564"
      ]
     },
     "execution_count": 259,
     "metadata": {},
     "output_type": "execute_result"
    }
   ],
   "source": [
    "df['AISent'].isna().sum()"
   ]
  },
  {
   "cell_type": "code",
   "execution_count": 261,
   "id": "06ed2d16-eac5-4085-9528-73de2cfb17e1",
   "metadata": {},
   "outputs": [
    {
     "data": {
      "text/plain": [
       "0"
      ]
     },
     "execution_count": 261,
     "metadata": {},
     "output_type": "execute_result"
    }
   ],
   "source": [
    "mode_value = df['AISent'].mode()[0]\n",
    "df['AISent'] = df['AISent'].fillna(mode_value)\n",
    "df['AISent'].isna().sum()"
   ]
  },
  {
   "cell_type": "code",
   "execution_count": 263,
   "id": "1512b53f-730c-4ff3-b368-cc9336d30a07",
   "metadata": {},
   "outputs": [
    {
     "data": {
      "text/plain": [
       "28543"
      ]
     },
     "execution_count": 263,
     "metadata": {},
     "output_type": "execute_result"
    }
   ],
   "source": [
    "df['AIBen'].isna().sum()"
   ]
  },
  {
   "cell_type": "code",
   "execution_count": 265,
   "id": "17fdaf33-e786-4163-abaa-455b81c064aa",
   "metadata": {},
   "outputs": [
    {
     "data": {
      "text/plain": [
       "0"
      ]
     },
     "execution_count": 265,
     "metadata": {},
     "output_type": "execute_result"
    }
   ],
   "source": [
    "mode_value = df['AIBen'].mode()[0]\n",
    "df['AIBen'] = df['AIBen'].fillna(mode_value)\n",
    "df['AIBen'].isna().sum()"
   ]
  },
  {
   "cell_type": "code",
   "execution_count": 267,
   "id": "fe2b8d39-3fc2-4f6c-8883-a3b74ed47d3f",
   "metadata": {},
   "outputs": [
    {
     "data": {
      "text/plain": [
       "28135"
      ]
     },
     "execution_count": 267,
     "metadata": {},
     "output_type": "execute_result"
    }
   ],
   "source": [
    "df['AIAcc'].isna().sum()"
   ]
  },
  {
   "cell_type": "code",
   "execution_count": 269,
   "id": "8463c0a7-557f-4b3f-87d6-0e11017514b7",
   "metadata": {},
   "outputs": [
    {
     "data": {
      "text/plain": [
       "0"
      ]
     },
     "execution_count": 269,
     "metadata": {},
     "output_type": "execute_result"
    }
   ],
   "source": [
    "mode_value = df['AIAcc'].mode()[0]\n",
    "df['AIAcc'] = df['AIAcc'].fillna(mode_value)\n",
    "df['AIAcc'].isna().sum()"
   ]
  },
  {
   "cell_type": "code",
   "execution_count": 271,
   "id": "bdf488f8-7ec1-4ea7-a49b-1b54ff92aed3",
   "metadata": {},
   "outputs": [
    {
     "data": {
      "text/plain": [
       "28416"
      ]
     },
     "execution_count": 271,
     "metadata": {},
     "output_type": "execute_result"
    }
   ],
   "source": [
    "df['AIComplex'].isna().sum()"
   ]
  },
  {
   "cell_type": "code",
   "execution_count": 273,
   "id": "6c17c176-7a8a-460d-bd84-949f2b508449",
   "metadata": {},
   "outputs": [
    {
     "data": {
      "text/plain": [
       "0"
      ]
     },
     "execution_count": 273,
     "metadata": {},
     "output_type": "execute_result"
    }
   ],
   "source": [
    "mode_value = df['AIComplex'].mode()[0]\n",
    "df['AIComplex'] = df['AIComplex'].fillna(mode_value)\n",
    "df['AIComplex'].isna().sum()"
   ]
  },
  {
   "cell_type": "code",
   "execution_count": 275,
   "id": "a7475a83-1631-4e21-8885-d9a7b1e88d39",
   "metadata": {},
   "outputs": [
    {
     "data": {
      "text/plain": [
       "30365"
      ]
     },
     "execution_count": 275,
     "metadata": {},
     "output_type": "execute_result"
    }
   ],
   "source": [
    "df['AIToolCurrently Using'].isna().sum()"
   ]
  },
  {
   "cell_type": "code",
   "execution_count": 277,
   "id": "4dd8106b-94ae-44e8-bbdc-e6975b23b42b",
   "metadata": {},
   "outputs": [
    {
     "data": {
      "text/plain": [
       "0"
      ]
     },
     "execution_count": 277,
     "metadata": {},
     "output_type": "execute_result"
    }
   ],
   "source": [
    "mode_value = df['AIToolCurrently Using'].mode()[0]\n",
    "df['AIToolCurrently Using'] = df['AIToolCurrently Using'].fillna(mode_value)\n",
    "df['AIToolCurrently Using'].isna().sum()"
   ]
  },
  {
   "cell_type": "code",
   "execution_count": 279,
   "id": "4dc9088b-d6f5-4161-be43-269c17558feb",
   "metadata": {},
   "outputs": [
    {
     "data": {
      "text/plain": [
       "34746"
      ]
     },
     "execution_count": 279,
     "metadata": {},
     "output_type": "execute_result"
    }
   ],
   "source": [
    "df['AIToolInterested in Using'].isna().sum()"
   ]
  },
  {
   "cell_type": "code",
   "execution_count": 281,
   "id": "451bc902-fd8b-4cb2-b5a0-522f2fb87ca8",
   "metadata": {},
   "outputs": [],
   "source": [
    "df=df.drop(columns=['AIToolInterested in Using'])"
   ]
  },
  {
   "cell_type": "code",
   "execution_count": 283,
   "id": "484428fc-00b2-472e-b439-1ab04f4d9072",
   "metadata": {},
   "outputs": [
    {
     "data": {
      "text/plain": [
       "41023"
      ]
     },
     "execution_count": 283,
     "metadata": {},
     "output_type": "execute_result"
    }
   ],
   "source": [
    "df['AIToolNot interested in Using'].isna().sum()"
   ]
  },
  {
   "cell_type": "code",
   "execution_count": 285,
   "id": "6df36ed4-b5ed-465c-8109-6402b99005ee",
   "metadata": {},
   "outputs": [],
   "source": [
    "df=df.drop(columns=['AIToolNot interested in Using'])"
   ]
  },
  {
   "cell_type": "code",
   "execution_count": 287,
   "id": "9fb6c0e2-fe67-4e41-af36-588a778b4bed",
   "metadata": {},
   "outputs": [
    {
     "data": {
      "text/plain": [
       "51999"
      ]
     },
     "execution_count": 287,
     "metadata": {},
     "output_type": "execute_result"
    }
   ],
   "source": [
    "df['AINextMuch more integrated'].isna().sum()"
   ]
  },
  {
   "cell_type": "code",
   "execution_count": 289,
   "id": "18b193b0-16f4-44bd-938f-42667e198880",
   "metadata": {},
   "outputs": [],
   "source": [
    "df=df.drop(columns=['AINextMuch more integrated'])"
   ]
  },
  {
   "cell_type": "code",
   "execution_count": 291,
   "id": "ba991b09-1c24-42f6-b7bd-ebb53014c72f",
   "metadata": {},
   "outputs": [
    {
     "data": {
      "text/plain": [
       "52939"
      ]
     },
     "execution_count": 291,
     "metadata": {},
     "output_type": "execute_result"
    }
   ],
   "source": [
    "df['AINextNo change'].isna().sum()"
   ]
  },
  {
   "cell_type": "code",
   "execution_count": 293,
   "id": "6ad5975b-be97-476f-9e56-e45ed75f9d45",
   "metadata": {},
   "outputs": [],
   "source": [
    "df=df.drop(columns=['AINextNo change'])"
   ]
  },
  {
   "cell_type": "code",
   "execution_count": 295,
   "id": "a3c61c14-bdeb-49ee-ad42-337df7834360",
   "metadata": {},
   "outputs": [
    {
     "data": {
      "text/plain": [
       "41009"
      ]
     },
     "execution_count": 295,
     "metadata": {},
     "output_type": "execute_result"
    }
   ],
   "source": [
    "df['AINextMore integrated'].isna().sum()"
   ]
  },
  {
   "cell_type": "code",
   "execution_count": 297,
   "id": "d00b6d01-3dbc-4960-b558-9c60201d7d8e",
   "metadata": {},
   "outputs": [],
   "source": [
    "df=df.drop(columns=['AINextMore integrated'])"
   ]
  },
  {
   "cell_type": "code",
   "execution_count": 299,
   "id": "ff076bb0-7bc7-4562-94e6-d7cc0c254d54",
   "metadata": {},
   "outputs": [
    {
     "data": {
      "text/plain": [
       "63082"
      ]
     },
     "execution_count": 299,
     "metadata": {},
     "output_type": "execute_result"
    }
   ],
   "source": [
    "df['AINextLess integrated'].isna().sum()"
   ]
  },
  {
   "cell_type": "code",
   "execution_count": 301,
   "id": "220d9b41-c0df-47de-9c58-08f3a07de384",
   "metadata": {},
   "outputs": [],
   "source": [
    "df=df.drop(columns=['AINextLess integrated'])"
   ]
  },
  {
   "cell_type": "code",
   "execution_count": 303,
   "id": "1855a325-aeee-45fa-958a-86204d070259",
   "metadata": {},
   "outputs": [
    {
     "data": {
      "text/plain": [
       "64289"
      ]
     },
     "execution_count": 303,
     "metadata": {},
     "output_type": "execute_result"
    }
   ],
   "source": [
    "df['AINextMuch less integrated'].isna().sum()"
   ]
  },
  {
   "cell_type": "code",
   "execution_count": 305,
   "id": "eceb1da7-09e0-41a8-b3a5-c2c9e44e52e9",
   "metadata": {},
   "outputs": [],
   "source": [
    "df=df.drop(columns=['AINextMuch less integrated'])"
   ]
  },
  {
   "cell_type": "code",
   "execution_count": 307,
   "id": "b9ab8f3a-e8da-45aa-857d-09188c879000",
   "metadata": {},
   "outputs": [
    {
     "data": {
      "text/plain": [
       "20748"
      ]
     },
     "execution_count": 307,
     "metadata": {},
     "output_type": "execute_result"
    }
   ],
   "source": [
    "df['AIThreat'].isna().sum()"
   ]
  },
  {
   "cell_type": "code",
   "execution_count": 309,
   "id": "7c24ac13-a70f-4d6f-a361-af4cb1585afe",
   "metadata": {},
   "outputs": [
    {
     "data": {
      "text/plain": [
       "0"
      ]
     },
     "execution_count": 309,
     "metadata": {},
     "output_type": "execute_result"
    }
   ],
   "source": [
    "mode_value = df['AIThreat'].mode()[0]\n",
    "df['AIThreat'] = df['AIThreat'].fillna(mode_value)\n",
    "df['AIThreat'].isna().sum()"
   ]
  },
  {
   "cell_type": "code",
   "execution_count": 311,
   "id": "9625123c-0266-4c9a-8e99-5ee2a0a24b9a",
   "metadata": {},
   "outputs": [
    {
     "data": {
      "text/plain": [
       "23889"
      ]
     },
     "execution_count": 311,
     "metadata": {},
     "output_type": "execute_result"
    }
   ],
   "source": [
    "df['AIEthics'].isna().sum()"
   ]
  },
  {
   "cell_type": "code",
   "execution_count": 313,
   "id": "d7b8fe23-440d-4b78-b7b4-472be9587e60",
   "metadata": {},
   "outputs": [
    {
     "data": {
      "text/plain": [
       "0"
      ]
     },
     "execution_count": 313,
     "metadata": {},
     "output_type": "execute_result"
    }
   ],
   "source": [
    "mode_value = df['AIEthics'].mode()[0]\n",
    "df['AIEthics'] = df['AIEthics'].fillna(mode_value)\n",
    "df['AIEthics'].isna().sum()"
   ]
  },
  {
   "cell_type": "code",
   "execution_count": 315,
   "id": "108673d2-ef9e-4271-8fd8-14e281c575df",
   "metadata": {},
   "outputs": [
    {
     "data": {
      "text/plain": [
       "27906"
      ]
     },
     "execution_count": 315,
     "metadata": {},
     "output_type": "execute_result"
    }
   ],
   "source": [
    "df['AIChallenges'].isna().sum()"
   ]
  },
  {
   "cell_type": "code",
   "execution_count": 317,
   "id": "aa6db22f-7e81-48c3-bffa-baca3bc812e8",
   "metadata": {},
   "outputs": [
    {
     "data": {
      "text/plain": [
       "0"
      ]
     },
     "execution_count": 317,
     "metadata": {},
     "output_type": "execute_result"
    }
   ],
   "source": [
    "mode_value = df['AIChallenges'].mode()[0]\n",
    "df['AIChallenges'] = df['AIChallenges'].fillna(mode_value)\n",
    "df['AIChallenges'].isna().sum()"
   ]
  },
  {
   "cell_type": "code",
   "execution_count": 319,
   "id": "97cf6653-8aed-4f2a-aca6-c7efbc3eba07",
   "metadata": {},
   "outputs": [
    {
     "data": {
      "text/plain": [
       "20960"
      ]
     },
     "execution_count": 319,
     "metadata": {},
     "output_type": "execute_result"
    }
   ],
   "source": [
    "df['TBranch'].isna().sum()"
   ]
  },
  {
   "cell_type": "code",
   "execution_count": 321,
   "id": "0b35a06b-54a0-4fa4-bfea-b6a8f1cf28a5",
   "metadata": {},
   "outputs": [
    {
     "data": {
      "text/plain": [
       "0"
      ]
     },
     "execution_count": 321,
     "metadata": {},
     "output_type": "execute_result"
    }
   ],
   "source": [
    "mode_value = df['TBranch'].mode()[0]\n",
    "df['TBranch'] = df['TBranch'].fillna(mode_value)\n",
    "df['TBranch'].isna().sum()"
   ]
  },
  {
   "cell_type": "code",
   "execution_count": 323,
   "id": "ea07675b-4941-46af-a13b-2da96824d477",
   "metadata": {},
   "outputs": [
    {
     "data": {
      "text/plain": [
       "35636"
      ]
     },
     "execution_count": 323,
     "metadata": {},
     "output_type": "execute_result"
    }
   ],
   "source": [
    "df['ICorPM'].isna().sum()"
   ]
  },
  {
   "cell_type": "code",
   "execution_count": 325,
   "id": "4a67a117-bc51-426b-9b34-b24d0cbec04e",
   "metadata": {},
   "outputs": [],
   "source": [
    "df=df.drop(columns=['ICorPM'])"
   ]
  },
  {
   "cell_type": "code",
   "execution_count": 327,
   "id": "6393c7b2-368f-4bae-9978-1de34549e96b",
   "metadata": {},
   "outputs": [
    {
     "data": {
      "text/plain": [
       "35779"
      ]
     },
     "execution_count": 327,
     "metadata": {},
     "output_type": "execute_result"
    }
   ],
   "source": [
    "df['WorkExp'].isna().sum()"
   ]
  },
  {
   "cell_type": "code",
   "execution_count": 329,
   "id": "fbf459d0-7e29-4863-bde1-0690fcec42cd",
   "metadata": {},
   "outputs": [],
   "source": [
    "df=df.drop(columns=['WorkExp'])"
   ]
  },
  {
   "cell_type": "code",
   "execution_count": 331,
   "id": "095660ee-4db1-45ae-9281-838e82ddd3e7",
   "metadata": {},
   "outputs": [
    {
     "data": {
      "text/plain": [
       "36773"
      ]
     },
     "execution_count": 331,
     "metadata": {},
     "output_type": "execute_result"
    }
   ],
   "source": [
    "df['Knowledge_1'].isna().sum()"
   ]
  },
  {
   "cell_type": "code",
   "execution_count": 333,
   "id": "5ad7bfb6-072b-47e8-a688-1975b4d9bccb",
   "metadata": {},
   "outputs": [],
   "source": [
    "df=df.drop(columns=['Knowledge_1'])"
   ]
  },
  {
   "cell_type": "code",
   "execution_count": 335,
   "id": "df4970f7-be79-43fb-a81e-331dcf45b925",
   "metadata": {},
   "outputs": [
    {
     "data": {
      "text/plain": [
       "37416"
      ]
     },
     "execution_count": 335,
     "metadata": {},
     "output_type": "execute_result"
    }
   ],
   "source": [
    "df['Knowledge_2'].isna().sum()"
   ]
  },
  {
   "cell_type": "code",
   "execution_count": 337,
   "id": "75ab8d08-e117-4a02-8e59-1972be8662ca",
   "metadata": {},
   "outputs": [],
   "source": [
    "df=df.drop(columns=['Knowledge_2'])"
   ]
  },
  {
   "cell_type": "code",
   "execution_count": 339,
   "id": "0d6ca136-7bd3-42c4-b658-a185df51cae9",
   "metadata": {},
   "outputs": [
    {
     "data": {
      "text/plain": [
       "37342"
      ]
     },
     "execution_count": 339,
     "metadata": {},
     "output_type": "execute_result"
    }
   ],
   "source": [
    "df['Knowledge_3'].isna().sum()"
   ]
  },
  {
   "cell_type": "code",
   "execution_count": 341,
   "id": "3559a48c-b541-4024-ad31-21b8168bd871",
   "metadata": {},
   "outputs": [],
   "source": [
    "df=df.drop(columns=['Knowledge_3'])"
   ]
  },
  {
   "cell_type": "code",
   "execution_count": 343,
   "id": "51698c59-2def-4bb2-8896-00c7b7a17fbb",
   "metadata": {},
   "outputs": [
    {
     "data": {
      "text/plain": [
       "37407"
      ]
     },
     "execution_count": 343,
     "metadata": {},
     "output_type": "execute_result"
    }
   ],
   "source": [
    "df['Knowledge_4'].isna().sum()"
   ]
  },
  {
   "cell_type": "code",
   "execution_count": 345,
   "id": "55665ae4-3e3a-4c33-b877-01e3fa12c35d",
   "metadata": {},
   "outputs": [],
   "source": [
    "df=df.drop(columns=['Knowledge_4'])"
   ]
  },
  {
   "cell_type": "code",
   "execution_count": 347,
   "id": "d0823bca-4451-4021-9ed7-01a50464874c",
   "metadata": {},
   "outputs": [
    {
     "data": {
      "text/plain": [
       "37557"
      ]
     },
     "execution_count": 347,
     "metadata": {},
     "output_type": "execute_result"
    }
   ],
   "source": [
    "df['Knowledge_5'].isna().sum()"
   ]
  },
  {
   "cell_type": "code",
   "execution_count": 349,
   "id": "cf3cebc9-22fa-43f1-8a1a-feef5fd37e51",
   "metadata": {},
   "outputs": [],
   "source": [
    "df=df.drop(columns=['Knowledge_5'])"
   ]
  },
  {
   "cell_type": "code",
   "execution_count": 351,
   "id": "72575113-5de2-4b4d-baa9-2accc0011d36",
   "metadata": {},
   "outputs": [
    {
     "data": {
      "text/plain": [
       "37573"
      ]
     },
     "execution_count": 351,
     "metadata": {},
     "output_type": "execute_result"
    }
   ],
   "source": [
    "df['Knowledge_6'].isna().sum()"
   ]
  },
  {
   "cell_type": "code",
   "execution_count": 353,
   "id": "480cac96-bdf0-4314-9ad5-af73c70448ba",
   "metadata": {},
   "outputs": [],
   "source": [
    "df=df.drop(columns=['Knowledge_6'])"
   ]
  },
  {
   "cell_type": "code",
   "execution_count": 355,
   "id": "bdf29513-e13c-47f3-a791-1cdb88fd6ab1",
   "metadata": {},
   "outputs": [
    {
     "data": {
      "text/plain": [
       "37659"
      ]
     },
     "execution_count": 355,
     "metadata": {},
     "output_type": "execute_result"
    }
   ],
   "source": [
    "df['Knowledge_7'].isna().sum()"
   ]
  },
  {
   "cell_type": "code",
   "execution_count": 357,
   "id": "afb13c20-e614-4a16-b2f7-307e006867bf",
   "metadata": {},
   "outputs": [],
   "source": [
    "df=df.drop(columns=['Knowledge_7'])"
   ]
  },
  {
   "cell_type": "code",
   "execution_count": 359,
   "id": "6512dde1-1060-45ec-9ba4-42ca9793eeb2",
   "metadata": {},
   "outputs": [
    {
     "data": {
      "text/plain": [
       "37679"
      ]
     },
     "execution_count": 359,
     "metadata": {},
     "output_type": "execute_result"
    }
   ],
   "source": [
    "df['Knowledge_8'].isna().sum()"
   ]
  },
  {
   "cell_type": "code",
   "execution_count": 361,
   "id": "7bb6febb-97f2-484d-9395-f568808eee5c",
   "metadata": {},
   "outputs": [],
   "source": [
    "df=df.drop(columns=['Knowledge_8'])"
   ]
  },
  {
   "cell_type": "code",
   "execution_count": 363,
   "id": "caff3f3d-2c1d-4c9d-857a-9271fb028756",
   "metadata": {},
   "outputs": [
    {
     "data": {
      "text/plain": [
       "37802"
      ]
     },
     "execution_count": 363,
     "metadata": {},
     "output_type": "execute_result"
    }
   ],
   "source": [
    "df['Knowledge_9'].isna().sum()"
   ]
  },
  {
   "cell_type": "code",
   "execution_count": 365,
   "id": "64535e4a-3501-4a6a-b451-619a4d71ddbf",
   "metadata": {},
   "outputs": [],
   "source": [
    "df=df.drop(columns=['Knowledge_9'])"
   ]
  },
  {
   "cell_type": "code",
   "execution_count": 367,
   "id": "8dee7e29-ee13-4872-a15c-49b64b9f4980",
   "metadata": {},
   "outputs": [
    {
     "data": {
      "text/plain": [
       "37068"
      ]
     },
     "execution_count": 367,
     "metadata": {},
     "output_type": "execute_result"
    }
   ],
   "source": [
    "df['Frequency_1'].isna().sum()"
   ]
  },
  {
   "cell_type": "code",
   "execution_count": 369,
   "id": "7c3f8b41-361c-4a00-9737-215633c75640",
   "metadata": {},
   "outputs": [],
   "source": [
    "df=df.drop(columns=['Frequency_1'])"
   ]
  },
  {
   "cell_type": "code",
   "execution_count": 371,
   "id": "bbb86aa8-0f42-4231-9279-5d6f7ea3a230",
   "metadata": {},
   "outputs": [
    {
     "data": {
      "text/plain": [
       "37073"
      ]
     },
     "execution_count": 371,
     "metadata": {},
     "output_type": "execute_result"
    }
   ],
   "source": [
    "df['Frequency_2'].isna().sum()"
   ]
  },
  {
   "cell_type": "code",
   "execution_count": 373,
   "id": "5d343b26-68d0-41bc-9ec9-55c2d19f55a6",
   "metadata": {},
   "outputs": [],
   "source": [
    "df=df.drop(columns=['Frequency_2'])"
   ]
  },
  {
   "cell_type": "code",
   "execution_count": 375,
   "id": "4ef0e273-5b61-4c95-a569-316b1e9d1681",
   "metadata": {},
   "outputs": [
    {
     "data": {
      "text/plain": [
       "37727"
      ]
     },
     "execution_count": 375,
     "metadata": {},
     "output_type": "execute_result"
    }
   ],
   "source": [
    "df['Frequency_3'].isna().sum()"
   ]
  },
  {
   "cell_type": "code",
   "execution_count": 377,
   "id": "9867db86-dc7e-482a-81f4-fcca930d599e",
   "metadata": {},
   "outputs": [],
   "source": [
    "df=df.drop(columns=['Frequency_3'])"
   ]
  },
  {
   "cell_type": "code",
   "execution_count": 379,
   "id": "7224e00f-37bb-4659-9c3a-2b75689c6f78",
   "metadata": {},
   "outputs": [
    {
     "data": {
      "text/plain": [
       "36526"
      ]
     },
     "execution_count": 379,
     "metadata": {},
     "output_type": "execute_result"
    }
   ],
   "source": [
    "df['TimeSearching'].isna().sum()"
   ]
  },
  {
   "cell_type": "code",
   "execution_count": 381,
   "id": "15b52f36-98bc-4aff-9ac9-728c465f0597",
   "metadata": {},
   "outputs": [],
   "source": [
    "df=df.drop(columns=['TimeSearching'])"
   ]
  },
  {
   "cell_type": "code",
   "execution_count": 383,
   "id": "e5cfbda9-91e1-4826-8230-6bd5fd5c2fb9",
   "metadata": {},
   "outputs": [
    {
     "data": {
      "text/plain": [
       "36593"
      ]
     },
     "execution_count": 383,
     "metadata": {},
     "output_type": "execute_result"
    }
   ],
   "source": [
    "df['TimeAnswering'].isna().sum()"
   ]
  },
  {
   "cell_type": "code",
   "execution_count": 385,
   "id": "570539c8-81af-426b-9faf-1a11122c4313",
   "metadata": {},
   "outputs": [],
   "source": [
    "df=df.drop(columns=['TimeAnswering'])"
   ]
  },
  {
   "cell_type": "code",
   "execution_count": 387,
   "id": "1667c11d-9524-4c68-9d49-64b58f58a0b0",
   "metadata": {},
   "outputs": [
    {
     "data": {
      "text/plain": [
       "37186"
      ]
     },
     "execution_count": 387,
     "metadata": {},
     "output_type": "execute_result"
    }
   ],
   "source": [
    "df['Frustration'].isna().sum()"
   ]
  },
  {
   "cell_type": "code",
   "execution_count": 389,
   "id": "3c144530-8e13-499d-b58f-ead5e3c0ca32",
   "metadata": {},
   "outputs": [],
   "source": [
    "df=df.drop(columns=['Frustration'])"
   ]
  },
  {
   "cell_type": "code",
   "execution_count": 391,
   "id": "553a3970-5806-4fc8-a7f3-b2864e0f4ad8",
   "metadata": {},
   "outputs": [
    {
     "data": {
      "text/plain": [
       "37673"
      ]
     },
     "execution_count": 391,
     "metadata": {},
     "output_type": "execute_result"
    }
   ],
   "source": [
    "df['ProfessionalTech'].isna().sum()"
   ]
  },
  {
   "cell_type": "code",
   "execution_count": 393,
   "id": "c5c9e0ab-007e-4d83-9fd7-7c63570a66b2",
   "metadata": {},
   "outputs": [],
   "source": [
    "df=df.drop(columns=['ProfessionalTech'])"
   ]
  },
  {
   "cell_type": "code",
   "execution_count": 395,
   "id": "9d25ba57-d059-42a0-a959-365d9c0c9513",
   "metadata": {},
   "outputs": [
    {
     "data": {
      "text/plain": [
       "36946"
      ]
     },
     "execution_count": 395,
     "metadata": {},
     "output_type": "execute_result"
    }
   ],
   "source": [
    "df['ProfessionalCloud'].isna().sum()"
   ]
  },
  {
   "cell_type": "code",
   "execution_count": 397,
   "id": "41135bcf-efb5-4226-86cb-a855a9450a5c",
   "metadata": {},
   "outputs": [],
   "source": [
    "df=df.drop(columns=['ProfessionalCloud'])"
   ]
  },
  {
   "cell_type": "code",
   "execution_count": 399,
   "id": "f81254f8-85ab-4ea9-b800-0668d7950e06",
   "metadata": {},
   "outputs": [
    {
     "data": {
      "text/plain": [
       "36630"
      ]
     },
     "execution_count": 399,
     "metadata": {},
     "output_type": "execute_result"
    }
   ],
   "source": [
    "df['ProfessionalQuestion'].isna().sum()"
   ]
  },
  {
   "cell_type": "code",
   "execution_count": 401,
   "id": "d6481c3b-274d-4880-9e31-be209dba101f",
   "metadata": {},
   "outputs": [],
   "source": [
    "df=df.drop(columns=['ProfessionalQuestion'])"
   ]
  },
  {
   "cell_type": "code",
   "execution_count": 403,
   "id": "5019e48e-7b0c-4c49-811c-344d5e345360",
   "metadata": {},
   "outputs": [
    {
     "data": {
      "text/plain": [
       "36579"
      ]
     },
     "execution_count": 403,
     "metadata": {},
     "output_type": "execute_result"
    }
   ],
   "source": [
    "df['Industry'].isna().sum()"
   ]
  },
  {
   "cell_type": "code",
   "execution_count": 405,
   "id": "591efa03-8710-424d-a098-d19a24c87e63",
   "metadata": {},
   "outputs": [],
   "source": [
    "df=df.drop(columns=['Industry'])"
   ]
  },
  {
   "cell_type": "code",
   "execution_count": 407,
   "id": "c0a7a088-d13d-4398-af41-56bb425f572e",
   "metadata": {},
   "outputs": [
    {
     "data": {
      "text/plain": [
       "36113"
      ]
     },
     "execution_count": 407,
     "metadata": {},
     "output_type": "execute_result"
    }
   ],
   "source": [
    "df['JobSatPoints_1'].isna().sum()"
   ]
  },
  {
   "cell_type": "code",
   "execution_count": 409,
   "id": "4c848bf9-06db-4882-b748-4dc5c60cb6c3",
   "metadata": {},
   "outputs": [],
   "source": [
    "df=df.drop(columns=['JobSatPoints_1'])"
   ]
  },
  {
   "cell_type": "code",
   "execution_count": 411,
   "id": "a9e49143-c21d-4603-bdae-4cfaf77161a2",
   "metadata": {},
   "outputs": [
    {
     "data": {
      "text/plain": [
       "36044"
      ]
     },
     "execution_count": 411,
     "metadata": {},
     "output_type": "execute_result"
    }
   ],
   "source": [
    "df['JobSatPoints_4'].isna().sum()"
   ]
  },
  {
   "cell_type": "code",
   "execution_count": 413,
   "id": "6ec8aeba-e1ec-40a7-8bb0-b07c9766c9f7",
   "metadata": {},
   "outputs": [],
   "source": [
    "df=df.drop(columns=['JobSatPoints_4'])"
   ]
  },
  {
   "cell_type": "code",
   "execution_count": 415,
   "id": "89b09e97-8bef-46b5-9673-7cdc91c28849",
   "metadata": {},
   "outputs": [
    {
     "data": {
      "text/plain": [
       "36026"
      ]
     },
     "execution_count": 415,
     "metadata": {},
     "output_type": "execute_result"
    }
   ],
   "source": [
    "df['JobSatPoints_5'].isna().sum()"
   ]
  },
  {
   "cell_type": "code",
   "execution_count": 417,
   "id": "fd9f3533-3e7a-4828-9dc7-7818476b7304",
   "metadata": {},
   "outputs": [],
   "source": [
    "df=df.drop(columns=['JobSatPoints_5'])"
   ]
  },
  {
   "cell_type": "code",
   "execution_count": 419,
   "id": "fa50e6fe-4ad0-4212-95a4-edb0ca1fb3d5",
   "metadata": {},
   "outputs": [
    {
     "data": {
      "text/plain": [
       "35987"
      ]
     },
     "execution_count": 419,
     "metadata": {},
     "output_type": "execute_result"
    }
   ],
   "source": [
    "df['JobSatPoints_6'].isna().sum()"
   ]
  },
  {
   "cell_type": "code",
   "execution_count": 421,
   "id": "d91980e8-5aa7-4a73-9394-b1c420a73520",
   "metadata": {},
   "outputs": [],
   "source": [
    "df=df.drop(columns=['JobSatPoints_6'])"
   ]
  },
  {
   "cell_type": "code",
   "execution_count": 423,
   "id": "734f821d-1631-4294-b260-c7021796a143",
   "metadata": {},
   "outputs": [
    {
     "data": {
      "text/plain": [
       "35989"
      ]
     },
     "execution_count": 423,
     "metadata": {},
     "output_type": "execute_result"
    }
   ],
   "source": [
    "df['JobSatPoints_7'].isna().sum()"
   ]
  },
  {
   "cell_type": "code",
   "execution_count": 425,
   "id": "ffc13818-47e4-4610-8b29-f29df6895678",
   "metadata": {},
   "outputs": [],
   "source": [
    "df=df.drop(columns=['JobSatPoints_7'])"
   ]
  },
  {
   "cell_type": "code",
   "execution_count": 427,
   "id": "b9546858-06b6-47fc-87f0-06615e82abb6",
   "metadata": {},
   "outputs": [
    {
     "data": {
      "text/plain": [
       "35981"
      ]
     },
     "execution_count": 427,
     "metadata": {},
     "output_type": "execute_result"
    }
   ],
   "source": [
    "df['JobSatPoints_8'].isna().sum()"
   ]
  },
  {
   "cell_type": "code",
   "execution_count": 429,
   "id": "abdf4439-06d7-4bc5-b404-089595a21094",
   "metadata": {},
   "outputs": [],
   "source": [
    "df=df.drop(columns=['JobSatPoints_8'])"
   ]
  },
  {
   "cell_type": "code",
   "execution_count": 431,
   "id": "eac8ec3f-8324-479b-9c59-9dfdebd2951c",
   "metadata": {},
   "outputs": [
    {
     "data": {
      "text/plain": [
       "35981"
      ]
     },
     "execution_count": 431,
     "metadata": {},
     "output_type": "execute_result"
    }
   ],
   "source": [
    "df['JobSatPoints_9'].isna().sum()"
   ]
  },
  {
   "cell_type": "code",
   "execution_count": 433,
   "id": "5112aa31-07d4-4ba3-8bea-b59f33ec638a",
   "metadata": {},
   "outputs": [],
   "source": [
    "df=df.drop(columns=['JobSatPoints_9'])"
   ]
  },
  {
   "cell_type": "code",
   "execution_count": 435,
   "id": "4cfabbbc-ed90-43ea-8529-bb9e1178ad4e",
   "metadata": {},
   "outputs": [
    {
     "data": {
      "text/plain": [
       "35987"
      ]
     },
     "execution_count": 435,
     "metadata": {},
     "output_type": "execute_result"
    }
   ],
   "source": [
    "df['JobSatPoints_10'].isna().sum()"
   ]
  },
  {
   "cell_type": "code",
   "execution_count": 437,
   "id": "e43ec3f3-e74d-4a73-97f7-d0a060530c53",
   "metadata": {},
   "outputs": [],
   "source": [
    "df=df.drop(columns=['JobSatPoints_10'])"
   ]
  },
  {
   "cell_type": "code",
   "execution_count": 439,
   "id": "662b686b-66a2-4415-8cad-7a9b0ca701ba",
   "metadata": {},
   "outputs": [
    {
     "data": {
      "text/plain": [
       "35992"
      ]
     },
     "execution_count": 439,
     "metadata": {},
     "output_type": "execute_result"
    }
   ],
   "source": [
    "df['JobSatPoints_11'].isna().sum()"
   ]
  },
  {
   "cell_type": "code",
   "execution_count": 441,
   "id": "d532c719-341a-4fc2-a98f-0a0cc8fc7ec2",
   "metadata": {},
   "outputs": [],
   "source": [
    "df=df.drop(columns=['JobSatPoints_11'])"
   ]
  },
  {
   "cell_type": "code",
   "execution_count": 443,
   "id": "5d156ec9-3a41-4a42-90bc-b6ef961a2c94",
   "metadata": {},
   "outputs": [
    {
     "data": {
      "text/plain": [
       "9255"
      ]
     },
     "execution_count": 443,
     "metadata": {},
     "output_type": "execute_result"
    }
   ],
   "source": [
    "df['SurveyLength'].isna().sum()"
   ]
  },
  {
   "cell_type": "code",
   "execution_count": 445,
   "id": "d7704414-fe5f-44c7-98ed-2ce695240ffb",
   "metadata": {},
   "outputs": [
    {
     "data": {
      "text/plain": [
       "0"
      ]
     },
     "execution_count": 445,
     "metadata": {},
     "output_type": "execute_result"
    }
   ],
   "source": [
    "mode_value = df['SurveyLength'].mode()[0]\n",
    "df['SurveyLength'] = df['SurveyLength'].fillna(mode_value)\n",
    "df['SurveyLength'].isna().sum()"
   ]
  },
  {
   "cell_type": "code",
   "execution_count": 447,
   "id": "c791cf71-117d-4011-9a8f-7d2ecbe6734a",
   "metadata": {},
   "outputs": [
    {
     "data": {
      "text/plain": [
       "9199"
      ]
     },
     "execution_count": 447,
     "metadata": {},
     "output_type": "execute_result"
    }
   ],
   "source": [
    "df['SurveyEase'].isna().sum()"
   ]
  },
  {
   "cell_type": "code",
   "execution_count": 449,
   "id": "f37b4968-0eaf-4b4e-804c-f499de9d1f31",
   "metadata": {},
   "outputs": [
    {
     "data": {
      "text/plain": [
       "0"
      ]
     },
     "execution_count": 449,
     "metadata": {},
     "output_type": "execute_result"
    }
   ],
   "source": [
    "mode_value = df['SurveyEase'].mode()[0]\n",
    "df['SurveyEase'] = df['SurveyEase'].fillna(mode_value)\n",
    "df['SurveyEase'].isna().sum()"
   ]
  },
  {
   "cell_type": "code",
   "execution_count": 451,
   "id": "7860c85e-6194-4bbb-8799-1ce52d40f94b",
   "metadata": {},
   "outputs": [
    {
     "data": {
      "text/plain": [
       "42002"
      ]
     },
     "execution_count": 451,
     "metadata": {},
     "output_type": "execute_result"
    }
   ],
   "source": [
    "df['ConvertedCompYearly'].isna().sum()"
   ]
  },
  {
   "cell_type": "code",
   "execution_count": 453,
   "id": "cd49a007-1fc2-457e-b402-99aa8f6f7975",
   "metadata": {},
   "outputs": [],
   "source": [
    "df=df.drop(columns=['ConvertedCompYearly'])"
   ]
  },
  {
   "cell_type": "code",
   "execution_count": 455,
   "id": "82581fd0-5c84-44a5-9279-10279c05506e",
   "metadata": {},
   "outputs": [
    {
     "data": {
      "text/plain": [
       "36311"
      ]
     },
     "execution_count": 455,
     "metadata": {},
     "output_type": "execute_result"
    }
   ],
   "source": [
    "df['JobSat'].isna().sum()"
   ]
  },
  {
   "cell_type": "code",
   "execution_count": 457,
   "id": "dd4472bc-bddc-47db-9d68-a416ec57808c",
   "metadata": {},
   "outputs": [],
   "source": [
    "df=df.drop(columns=['JobSat'])"
   ]
  },
  {
   "cell_type": "code",
   "execution_count": 459,
   "id": "f57b573b-d0fd-40ee-940e-5251a0ddd019",
   "metadata": {},
   "outputs": [],
   "source": [
    "df.to_csv(\"survey_results_public_after_cleaning.csv\",index=False)"
   ]
  },
  {
   "cell_type": "code",
   "execution_count": null,
   "id": "635a1a00-f37f-4028-bf75-ed4e13497af2",
   "metadata": {},
   "outputs": [],
   "source": []
  }
 ],
 "metadata": {
  "kernelspec": {
   "display_name": "Python 3 (ipykernel)",
   "language": "python",
   "name": "python3"
  },
  "language_info": {
   "codemirror_mode": {
    "name": "ipython",
    "version": 3
   },
   "file_extension": ".py",
   "mimetype": "text/x-python",
   "name": "python",
   "nbconvert_exporter": "python",
   "pygments_lexer": "ipython3",
   "version": "3.12.4"
  }
 },
 "nbformat": 4,
 "nbformat_minor": 5
}
