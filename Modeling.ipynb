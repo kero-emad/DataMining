{
 "cells": [
  {
   "cell_type": "code",
   "execution_count": 7,
   "id": "594fb541-78e8-4c46-a5a8-73e45f781ac9",
   "metadata": {},
   "outputs": [
    {
     "name": "stdout",
     "output_type": "stream",
     "text": [
      "Accuracy: 0.9944223716381418\n",
      "Classification Report:\n",
      "              precision    recall  f1-score   support\n",
      "\n",
      "           0       0.99      0.99      0.99      3889\n",
      "           1       1.00      1.00      1.00      7136\n",
      "           2       0.99      0.99      0.99      2063\n",
      "\n",
      "    accuracy                           0.99     13088\n",
      "   macro avg       0.99      0.99      0.99     13088\n",
      "weighted avg       0.99      0.99      0.99     13088\n",
      "\n"
     ]
    }
   ],
   "source": [
    "from sklearn.cluster import KMeans\n",
    "from sklearn.linear_model import LogisticRegression\n",
    "from sklearn.model_selection import train_test_split\n",
    "from sklearn.metrics import accuracy_score, classification_report\n",
    "\n",
    "\n",
    "data = pd.read_csv('training.csv')\n",
    "\n",
    "\n",
    "X = data.drop('DevType', axis=1)\n",
    "y = data['DevType']\n",
    "\n",
    "\n",
    "kmeans = KMeans(n_clusters=3, random_state=42)\n",
    "X_kmeans = X.copy()\n",
    "X_kmeans['Cluster'] = kmeans.fit_predict(X)\n",
    "\n",
    "\n",
    "X_features = X_kmeans.drop('Cluster', axis=1)  \n",
    "y_cluster = X_kmeans['Cluster'] \n",
    "\n",
    "\n",
    "X_train, X_test, y_train, y_test = train_test_split(X_features, y_cluster, test_size=0.2, random_state=42)\n",
    "\n",
    "\n",
    "logistic_model = LogisticRegression(solver='saga', max_iter=1000)\n",
    "\n",
    "\n",
    "logistic_model.fit(X_train, y_train)\n",
    "\n",
    "\n",
    "y_pred = logistic_model.predict(X_test)\n",
    "accuracy = accuracy_score(y_test, y_pred)\n",
    "classification_rep = classification_report(y_test, y_pred)\n",
    "\n",
    "print(f'Accuracy: {accuracy}')\n",
    "print(f'Classification Report:\\n{classification_rep}')\n"
   ]
  },
  {
   "cell_type": "code",
   "execution_count": null,
   "id": "e2a67013-26bd-4ce0-8206-f5eb59822410",
   "metadata": {},
   "outputs": [],
   "source": []
  }
 ],
 "metadata": {
  "kernelspec": {
   "display_name": "Python 3 (ipykernel)",
   "language": "python",
   "name": "python3"
  },
  "language_info": {
   "codemirror_mode": {
    "name": "ipython",
    "version": 3
   },
   "file_extension": ".py",
   "mimetype": "text/x-python",
   "name": "python",
   "nbconvert_exporter": "python",
   "pygments_lexer": "ipython3",
   "version": "3.12.4"
  }
 },
 "nbformat": 4,
 "nbformat_minor": 5
}
